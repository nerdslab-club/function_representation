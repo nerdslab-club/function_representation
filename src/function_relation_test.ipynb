{
 "cells": [
  {
   "cell_type": "code",
   "execution_count": 1,
   "outputs": [],
   "source": [
    "from math_functions import MathFunctions as mF"
   ],
   "metadata": {
    "collapsed": false,
    "ExecuteTime": {
     "end_time": "2023-08-05T15:47:11.276418Z",
     "start_time": "2023-08-05T15:47:11.168269Z"
    }
   }
  },
  {
   "cell_type": "code",
   "execution_count": 8,
   "metadata": {
    "collapsed": true,
    "ExecuteTime": {
     "end_time": "2023-08-06T06:22:40.547826Z",
     "start_time": "2023-08-06T06:22:40.544623Z"
    }
   },
   "outputs": [
    {
     "name": "stdout",
     "output_type": "stream",
     "text": [
      "5040\n",
      "210\n",
      "210\n",
      "210\n"
     ]
    }
   ],
   "source": [
    "# Relationship between permutation, combination, factorial and floor_division\n",
    "print(mF.combination(10,4))\n",
    "print(mF.floor_division(mF.permutation(10,4), mF.factorial(4)))\n",
    "print(mF.float_to_int(mF.multiplication(mF.permutation(10,4), mF.invert_number(mF.factorial(4)))))"
   ]
  },
  {
   "cell_type": "code",
   "execution_count": 12,
   "outputs": [
    {
     "name": "stdout",
     "output_type": "stream",
     "text": [
      "12\n",
      "12.0\n"
     ]
    }
   ],
   "source": [
    "print(mF.multiplication(3,4))\n",
    "print(mF.division(mF.multiplication(3,mF.multiplication(3,4)),3))"
   ],
   "metadata": {
    "collapsed": false,
    "ExecuteTime": {
     "end_time": "2023-08-06T06:27:02.340194Z",
     "start_time": "2023-08-06T06:27:02.328291Z"
    }
   }
  },
  {
   "cell_type": "code",
   "execution_count": 9,
   "outputs": [
    {
     "name": "stdout",
     "output_type": "stream",
     "text": [
      "5040\n",
      "5040\n"
     ]
    }
   ],
   "source": [
    "# Relationship between permutation, combination, factorial, invert_number, multiplication and float_to_int\n",
    "print(mF.permutation(10,4))\n",
    "print(mF.multiplication(mF.combination(10,4), mF.factorial(4)))"
   ],
   "metadata": {
    "collapsed": false,
    "ExecuteTime": {
     "end_time": "2023-08-06T06:23:28.397271Z",
     "start_time": "2023-08-06T06:23:28.393527Z"
    }
   }
  },
  {
   "cell_type": "code",
   "execution_count": 3,
   "outputs": [
    {
     "name": "stdout",
     "output_type": "stream",
     "text": [
      "4.5\n",
      "4.5\n",
      "4.5\n"
     ]
    }
   ],
   "source": [
    "# Relationship between average, division, summation and lengthOfArray\n",
    "print(mF.average([1,2,3,4,5,6,7,8]))\n",
    "print(mF.division(mF.sum([1,2,3,4,5,6,7,8]), mF.length([1,2,3,4,5,6,7,8])))\n",
    "print(mF.mean([1,2,3,4,5,6,7,8]))"
   ],
   "metadata": {
    "collapsed": false,
    "ExecuteTime": {
     "end_time": "2023-08-05T10:52:08.353495Z",
     "start_time": "2023-08-05T10:52:08.347260Z"
    }
   }
  },
  {
   "cell_type": "code",
   "execution_count": 13,
   "outputs": [
    {
     "name": "stdout",
     "output_type": "stream",
     "text": [
      "30\n",
      "30\n"
     ]
    }
   ],
   "source": [
    "print(mF.addition(10,20))\n",
    "print(mF.sum([10,20]))"
   ],
   "metadata": {
    "collapsed": false,
    "ExecuteTime": {
     "end_time": "2023-08-06T06:57:20.913148Z",
     "start_time": "2023-08-06T06:57:20.901630Z"
    }
   }
  },
  {
   "cell_type": "code",
   "execution_count": 62,
   "outputs": [
    {
     "name": "stdout",
     "output_type": "stream",
     "text": [
      "100\n",
      "100\n",
      "1000\n",
      "1000\n"
     ]
    }
   ],
   "source": [
    "# f2f\n",
    "print(mF.exponentiation(10,2))\n",
    "print(mF.multiplication(10,10))\n",
    "\n",
    "print(mF.exponentiation(10,3))\n",
    "print(mF.multiplication(mF.multiplication(10,10), 10))"
   ],
   "metadata": {
    "collapsed": false,
    "ExecuteTime": {
     "end_time": "2023-08-04T16:08:27.774659Z",
     "start_time": "2023-08-04T16:08:27.702881Z"
    }
   }
  },
  {
   "cell_type": "markdown",
   "source": [
    "difference between gpt and CL:\n",
    "1. gpt model use it's internal knowledge base\n",
    "2. CL learn which available function can be used to perform the task"
   ],
   "metadata": {
    "collapsed": false
   }
  },
  {
   "cell_type": "code",
   "execution_count": 63,
   "outputs": [
    {
     "name": "stdout",
     "output_type": "stream",
     "text": [
      "5\n",
      "5\n"
     ]
    }
   ],
   "source": [
    "# f2f\n",
    "print(mF.subtraction(10,5))\n",
    "print(mF.addition(10, mF.multiplication(-1,5)))"
   ],
   "metadata": {
    "collapsed": false,
    "ExecuteTime": {
     "end_time": "2023-08-04T16:08:27.774739Z",
     "start_time": "2023-08-04T16:08:27.706914Z"
    }
   }
  },
  {
   "cell_type": "code",
   "execution_count": 64,
   "outputs": [
    {
     "name": "stdout",
     "output_type": "stream",
     "text": [
      "20\n",
      "20\n",
      "30\n",
      "30\n"
     ]
    }
   ],
   "source": [
    "# f2f\n",
    "print(mF.multiplication(10,2))\n",
    "print(mF.addition(10,10))\n",
    "\n",
    "print(mF.multiplication(10,3))\n",
    "print(mF.addition(mF.addition(10,10),10))\n"
   ],
   "metadata": {
    "collapsed": false,
    "ExecuteTime": {
     "end_time": "2023-08-04T16:08:27.774817Z",
     "start_time": "2023-08-04T16:08:27.709534Z"
    }
   }
  },
  {
   "cell_type": "code",
   "execution_count": 65,
   "outputs": [
    {
     "name": "stdout",
     "output_type": "stream",
     "text": [
      "3\n",
      "3\n"
     ]
    }
   ],
   "source": [
    "print(mF.floor(mF.division(10,3)))\n",
    "print(mF.floor_division(10,3))"
   ],
   "metadata": {
    "collapsed": false,
    "ExecuteTime": {
     "end_time": "2023-08-04T16:08:27.774911Z",
     "start_time": "2023-08-04T16:08:27.712979Z"
    }
   }
  },
  {
   "cell_type": "code",
   "execution_count": 66,
   "outputs": [
    {
     "name": "stdout",
     "output_type": "stream",
     "text": [
      "100\n",
      "100.0\n"
     ]
    }
   ],
   "source": [
    "# f2f\n",
    "print(mF.exponentiation(10,2))\n",
    "print(mF.power(10,2))"
   ],
   "metadata": {
    "collapsed": false,
    "ExecuteTime": {
     "end_time": "2023-08-04T16:08:27.775032Z",
     "start_time": "2023-08-04T16:08:27.717710Z"
    }
   }
  },
  {
   "cell_type": "code",
   "execution_count": 67,
   "outputs": [
    {
     "name": "stdout",
     "output_type": "stream",
     "text": [
      "5\n",
      "5\n"
     ]
    }
   ],
   "source": [
    "print(mF.absolute(-5))\n",
    "print(mF.multiplication(-1,-5))"
   ],
   "metadata": {
    "collapsed": false,
    "ExecuteTime": {
     "end_time": "2023-08-04T16:08:27.775113Z",
     "start_time": "2023-08-04T16:08:27.720618Z"
    }
   }
  },
  {
   "cell_type": "code",
   "execution_count": 107,
   "outputs": [
    {
     "name": "stdout",
     "output_type": "stream",
     "text": [
      "3.0\n",
      "3.0\n",
      "3.0\n",
      "3.0\n",
      "3.0\n"
     ]
    }
   ],
   "source": [
    "print(mF.square_root(9))\n",
    "print(mF.exponentiation(9,0.5))\n",
    "print(mF.exponentiation(9,mF.invert_number(2)))\n",
    "print(mF.invert_number(mF.exponentiation(9, -0.5)))\n",
    "print(mF.nth_root(9,2))"
   ],
   "metadata": {
    "collapsed": false,
    "ExecuteTime": {
     "end_time": "2023-08-05T10:49:15.251661Z",
     "start_time": "2023-08-05T10:49:15.236210Z"
    }
   }
  },
  {
   "cell_type": "code",
   "execution_count": 104,
   "outputs": [
    {
     "name": "stdout",
     "output_type": "stream",
     "text": [
      "3.9999999999999996\n",
      "3.9999999999999996\n",
      "3.9999999999999996\n"
     ]
    }
   ],
   "source": [
    "print(mF.cube_root(64))\n",
    "print(mF.exponentiation(64,mF.division(1,3)))\n",
    "print(mF.nth_root(64,3))"
   ],
   "metadata": {
    "collapsed": false,
    "ExecuteTime": {
     "end_time": "2023-08-05T10:47:55.727557Z",
     "start_time": "2023-08-05T10:47:55.708280Z"
    }
   }
  },
  {
   "cell_type": "code",
   "execution_count": 70,
   "outputs": [
    {
     "name": "stdout",
     "output_type": "stream",
     "text": [
      "1\n",
      "1\n"
     ]
    }
   ],
   "source": [
    "print(mF.modulus(10,3))\n",
    "print(mF.subtraction(10, mF.multiplication(3, mF.floor_division(10,3))))"
   ],
   "metadata": {
    "collapsed": false,
    "ExecuteTime": {
     "end_time": "2023-08-04T16:08:27.776381Z",
     "start_time": "2023-08-04T16:08:27.741593Z"
    }
   }
  },
  {
   "cell_type": "code",
   "execution_count": 71,
   "outputs": [
    {
     "name": "stdout",
     "output_type": "stream",
     "text": [
      "3.3219280948873626\n",
      "3.321928094887362\n",
      "1.0\n",
      "1.0\n"
     ]
    }
   ],
   "source": [
    "# janii na\n",
    "print(mF.logarithm(10,2))\n",
    "print(mF.logarithm_base_2(10))\n",
    "\n",
    "\n",
    "print(mF.logarithm(10,10))\n",
    "print(mF.logarithm_base_10(10))"
   ],
   "metadata": {
    "collapsed": false,
    "ExecuteTime": {
     "end_time": "2023-08-04T16:08:27.776532Z",
     "start_time": "2023-08-04T16:08:27.744645Z"
    }
   }
  },
  {
   "cell_type": "code",
   "execution_count": 72,
   "outputs": [
    {
     "name": "stdout",
     "output_type": "stream",
     "text": [
      "4\n",
      "4.0\n"
     ]
    }
   ],
   "source": [
    "print(mF.gcd(20,4))\n",
    "print(mF.division(mF.multiplication(20,4), mF.lcm(20,4)))"
   ],
   "metadata": {
    "collapsed": false,
    "ExecuteTime": {
     "end_time": "2023-08-04T16:19:05.609575Z",
     "start_time": "2023-08-04T16:19:05.576969Z"
    }
   }
  },
  {
   "cell_type": "code",
   "execution_count": 73,
   "outputs": [
    {
     "name": "stdout",
     "output_type": "stream",
     "text": [
      "20\n",
      "20.0\n"
     ]
    }
   ],
   "source": [
    "print(mF.lcm(20,4))\n",
    "print(mF.division(mF.multiplication(20,4), mF.gcd(20,4)))"
   ],
   "metadata": {
    "collapsed": false,
    "ExecuteTime": {
     "end_time": "2023-08-04T16:19:26.922575Z",
     "start_time": "2023-08-04T16:19:26.910314Z"
    }
   }
  },
  {
   "cell_type": "code",
   "execution_count": 106,
   "outputs": [
    {
     "name": "stdout",
     "output_type": "stream",
     "text": [
      "4\n",
      "4\n",
      "4\n"
     ]
    }
   ],
   "source": [
    "print(mF.isqrt(20))\n",
    "print(mF.floor(mF.square_root(20)))\n",
    "print(mF.floor(mF.nth_root(20,2)))"
   ],
   "metadata": {
    "collapsed": false,
    "ExecuteTime": {
     "end_time": "2023-08-05T10:48:58.231633Z",
     "start_time": "2023-08-05T10:48:58.229294Z"
    }
   }
  },
  {
   "cell_type": "code",
   "execution_count": 77,
   "outputs": [
    {
     "name": "stdout",
     "output_type": "stream",
     "text": [
      "1\n",
      "1\n"
     ]
    }
   ],
   "source": [
    "print(mF.pow_mod(10,2,3))\n",
    "print(mF.modulus(mF.exponentiation(10,2),3))"
   ],
   "metadata": {
    "collapsed": false,
    "ExecuteTime": {
     "end_time": "2023-08-05T07:35:50.832156Z",
     "start_time": "2023-08-05T07:35:50.817171Z"
    }
   }
  },
  {
   "cell_type": "code",
   "execution_count": 86,
   "outputs": [
    {
     "name": "stdout",
     "output_type": "stream",
     "text": [
      "3\n",
      "3\n"
     ]
    }
   ],
   "source": [
    "print(mF.floor(3.4))\n",
    "print(mF.subtraction(mF.ceil(3.4), 1))"
   ],
   "metadata": {
    "collapsed": false,
    "ExecuteTime": {
     "end_time": "2023-08-05T08:19:23.909360Z",
     "start_time": "2023-08-05T08:19:23.908894Z"
    }
   }
  },
  {
   "cell_type": "code",
   "execution_count": 91,
   "outputs": [
    {
     "name": "stdout",
     "output_type": "stream",
     "text": [
      "4\n",
      "4\n"
     ]
    }
   ],
   "source": [
    "print(mF.ceil(3.7))\n",
    "print(mF.addition(mF.floor(3.7), 1))"
   ],
   "metadata": {
    "collapsed": false,
    "ExecuteTime": {
     "end_time": "2023-08-05T08:22:17.607338Z",
     "start_time": "2023-08-05T08:22:17.602605Z"
    }
   }
  },
  {
   "cell_type": "code",
   "execution_count": null,
   "outputs": [],
   "source": [
    "print(mF.round(3.4))"
   ],
   "metadata": {
    "collapsed": false
   }
  },
  {
   "cell_type": "code",
   "execution_count": 93,
   "outputs": [
    {
     "name": "stdout",
     "output_type": "stream",
     "text": [
      "1\n",
      "1\n"
     ]
    }
   ],
   "source": [
    "print(mF.absolute_difference(4,5))\n",
    "print(mF.absolute(mF.subtraction(4,5)))"
   ],
   "metadata": {
    "collapsed": false,
    "ExecuteTime": {
     "end_time": "2023-08-05T10:18:55.950359Z",
     "start_time": "2023-08-05T10:18:55.934390Z"
    }
   }
  },
  {
   "cell_type": "code",
   "execution_count": 94,
   "outputs": [
    {
     "name": "stdout",
     "output_type": "stream",
     "text": [
      "20\n",
      "20\n"
     ]
    }
   ],
   "source": [
    "print(mF.greatest_value(10,20))\n",
    "print(mF.max_value([10,20]))"
   ],
   "metadata": {
    "collapsed": false,
    "ExecuteTime": {
     "end_time": "2023-08-05T10:19:25.106692Z",
     "start_time": "2023-08-05T10:19:25.080359Z"
    }
   }
  },
  {
   "cell_type": "code",
   "execution_count": 95,
   "outputs": [
    {
     "name": "stdout",
     "output_type": "stream",
     "text": [
      "10\n",
      "10\n"
     ]
    }
   ],
   "source": [
    "print(mF.smallest_value(10,20))\n",
    "print(mF.min_value([10,20]))"
   ],
   "metadata": {
    "collapsed": false,
    "ExecuteTime": {
     "end_time": "2023-08-05T10:20:02.643011Z",
     "start_time": "2023-08-05T10:20:02.608319Z"
    }
   }
  },
  {
   "cell_type": "code",
   "execution_count": 97,
   "outputs": [
    {
     "name": "stdout",
     "output_type": "stream",
     "text": [
      "6\n",
      "6\n",
      "6\n"
     ]
    }
   ],
   "source": [
    "print(mF.product([1,2,3]))\n",
    "print(mF.factorial(3))\n",
    "print(mF.multiplication(1,mF.multiplication(2,3)))"
   ],
   "metadata": {
    "collapsed": false,
    "ExecuteTime": {
     "end_time": "2023-08-05T10:23:55.192826Z",
     "start_time": "2023-08-05T10:23:55.183766Z"
    }
   }
  },
  {
   "cell_type": "code",
   "execution_count": 100,
   "outputs": [
    {
     "name": "stdout",
     "output_type": "stream",
     "text": [
      "0.0\n",
      "0\n",
      "0\n"
     ]
    }
   ],
   "source": [
    "print(mF.relu(-4))\n",
    "print(mF.max_value([0,-4]))\n",
    "print(mF.greatest_value(0,-4))"
   ],
   "metadata": {
    "collapsed": false,
    "ExecuteTime": {
     "end_time": "2023-08-05T10:34:43.438359Z",
     "start_time": "2023-08-05T10:34:43.429778Z"
    }
   }
  },
  {
   "cell_type": "code",
   "execution_count": 101,
   "outputs": [
    {
     "name": "stdout",
     "output_type": "stream",
     "text": [
      "10000000000\n",
      "10000000000\n"
     ]
    }
   ],
   "source": [
    "print(mF.power_of_ten(10))\n",
    "print(mF.exponentiation(10,10))"
   ],
   "metadata": {
    "collapsed": false,
    "ExecuteTime": {
     "end_time": "2023-08-05T10:45:40.446752Z",
     "start_time": "2023-08-05T10:45:40.432422Z"
    }
   }
  },
  {
   "cell_type": "code",
   "execution_count": 102,
   "outputs": [
    {
     "name": "stdout",
     "output_type": "stream",
     "text": [
      "9\n",
      "9\n"
     ]
    }
   ],
   "source": [
    "print(mF.square(3))\n",
    "print(mF.exponentiation(3,2))"
   ],
   "metadata": {
    "collapsed": false,
    "ExecuteTime": {
     "end_time": "2023-08-05T10:46:33.856599Z",
     "start_time": "2023-08-05T10:46:33.797520Z"
    }
   }
  },
  {
   "cell_type": "code",
   "execution_count": 103,
   "outputs": [
    {
     "name": "stdout",
     "output_type": "stream",
     "text": [
      "27\n",
      "27\n"
     ]
    }
   ],
   "source": [
    "print(mF.cube(3))\n",
    "print(mF.exponentiation(3,3))"
   ],
   "metadata": {
    "collapsed": false,
    "ExecuteTime": {
     "end_time": "2023-08-05T10:46:58.134287Z",
     "start_time": "2023-08-05T10:46:58.112613Z"
    }
   }
  },
  {
   "cell_type": "code",
   "execution_count": 4,
   "outputs": [
    {
     "name": "stdout",
     "output_type": "stream",
     "text": [
      "3.764350599503129\n",
      "3.764350599503129\n",
      "3.764350599503129\n"
     ]
    }
   ],
   "source": [
    "print(mF.geometric_mean([1,2,3,4,5,6,7,8]))\n",
    "print(mF.exponentiation(mF.product([1,2,3,4,5,6,7,8]), mF.invert_number(mF.length([1,2,3,4,5,6,7,8]))))\n",
    "print(mF.exponentiation(mF.product([1,2,3,4,5,6,7,8]), mF.division(1, mF.length([1,2,3,4,5,6,7,8]))))"
   ],
   "metadata": {
    "collapsed": false,
    "ExecuteTime": {
     "end_time": "2023-08-05T10:53:35.422731Z",
     "start_time": "2023-08-05T10:53:35.399735Z"
    }
   }
  },
  {
   "cell_type": "code",
   "execution_count": 8,
   "outputs": [
    {
     "name": "stdout",
     "output_type": "stream",
     "text": [
      "21\n",
      "21\n"
     ]
    }
   ],
   "source": [
    "print(mF.binary_to_decimal(\"10101\"))\n",
    "print(mF.binary_to_decimal(mF.decimal_to_binary(mF.binary_to_decimal(\"10101\"))))"
   ],
   "metadata": {
    "collapsed": false,
    "ExecuteTime": {
     "end_time": "2023-08-05T10:55:27.417460Z",
     "start_time": "2023-08-05T10:55:27.413305Z"
    }
   }
  },
  {
   "cell_type": "code",
   "execution_count": 3,
   "outputs": [
    {
     "name": "stdout",
     "output_type": "stream",
     "text": [
      "True\n",
      "True\n"
     ]
    }
   ],
   "source": [
    "print(mF.is_palindrome(\"19191\"))\n",
    "print(mF.check_same_string(mF.reverse_string(\"19191\"), \"19191\"))"
   ],
   "metadata": {
    "collapsed": false,
    "ExecuteTime": {
     "end_time": "2023-08-05T11:00:30.138264Z",
     "start_time": "2023-08-05T11:00:30.133076Z"
    }
   }
  },
  {
   "cell_type": "code",
   "execution_count": 6,
   "outputs": [
    {
     "name": "stdout",
     "output_type": "stream",
     "text": [
      "22\n",
      "22\n"
     ]
    }
   ],
   "source": [
    "print(mF.sum_of_digits(5098))\n",
    "print(mF.sum([5,0,9,8]))"
   ],
   "metadata": {
    "collapsed": false,
    "ExecuteTime": {
     "end_time": "2023-08-05T11:02:05.331207Z",
     "start_time": "2023-08-05T11:02:05.287956Z"
    }
   }
  },
  {
   "cell_type": "code",
   "execution_count": 10,
   "outputs": [
    {
     "name": "stdout",
     "output_type": "stream",
     "text": [
      "5.0\n",
      "5.0\n",
      "5.0\n"
     ]
    }
   ],
   "source": [
    "print(mF.hypotenuse(3,4))\n",
    "print(mF.exponentiation(mF.addition(mF.exponentiation(3,2), mF.exponentiation(4,2)), 0.5))\n",
    "print(mF.square_root(mF.addition(mF.square(3), mF.square(4))))"
   ],
   "metadata": {
    "collapsed": false,
    "ExecuteTime": {
     "end_time": "2023-08-05T11:10:08.740406Z",
     "start_time": "2023-08-05T11:10:08.736912Z"
    }
   }
  },
  {
   "cell_type": "code",
   "execution_count": 2,
   "outputs": [
    {
     "name": "stdout",
     "output_type": "stream",
     "text": [
      "28.27431\n",
      "28.274333882308138\n"
     ]
    }
   ],
   "source": [
    "print(mF.circle_area(3))\n",
    "print(mF.multiplication(mF.get_pi(), mF.square(3)))"
   ],
   "metadata": {
    "collapsed": false,
    "ExecuteTime": {
     "end_time": "2023-08-05T11:11:54.036942Z",
     "start_time": "2023-08-05T11:11:54.029168Z"
    }
   }
  },
  {
   "cell_type": "code",
   "execution_count": 3,
   "outputs": [
    {
     "name": "stdout",
     "output_type": "stream",
     "text": [
      "1\n",
      "1\n"
     ]
    }
   ],
   "source": [
    "print(mF.float_to_int(1.1234))\n",
    "print(mF.float_to_int(mF.int_to_float(mF.float_to_int(1.1234))))"
   ],
   "metadata": {
    "collapsed": false,
    "ExecuteTime": {
     "end_time": "2023-08-05T11:13:24.272115Z",
     "start_time": "2023-08-05T11:13:24.260532Z"
    }
   }
  },
  {
   "cell_type": "code",
   "execution_count": 4,
   "outputs": [
    {
     "name": "stdout",
     "output_type": "stream",
     "text": [
      "0.9820137900379085\n",
      "0.9820137900379085\n"
     ]
    }
   ],
   "source": [
    "print(mF.sigmoid(4))\n",
    "print(mF.division(1,mF.addition(1, mF.exponentiation(mF.get_e(), mF.multiplication(-1, 4)))))"
   ],
   "metadata": {
    "collapsed": false,
    "ExecuteTime": {
     "end_time": "2023-08-05T15:34:54.567285Z",
     "start_time": "2023-08-05T15:34:54.565161Z"
    }
   }
  },
  {
   "cell_type": "code",
   "execution_count": 2,
   "outputs": [
    {
     "name": "stdout",
     "output_type": "stream",
     "text": [
      "0.8463889584616803\n",
      "0.8463889584616803\n"
     ]
    }
   ],
   "source": [
    "print(mF.cosine_similarity([1,2,3,4], [1,4,6,2]))\n",
    "print(mF.division(mF.calculate_dot_product([1,2,3,4], [1,4,6,2]), mF.multiplication(mF.l2_norm([1,2,3,4]), mF.l2_norm([1,4,6,2]))))"
   ],
   "metadata": {
    "collapsed": false,
    "ExecuteTime": {
     "end_time": "2023-08-05T15:40:17.876050Z",
     "start_time": "2023-08-05T15:40:17.861084Z"
    }
   }
  },
  {
   "cell_type": "code",
   "execution_count": 3,
   "outputs": [
    {
     "name": "stdout",
     "output_type": "stream",
     "text": [
      "144\n",
      "144\n",
      "144\n"
     ]
    }
   ],
   "source": [
    "print(mF.a_plus_b_whole_square(10, 2))\n",
    "print(mF.a_squared_plus_2ab_plus_b_squared(10, 2))\n",
    "print(mF.a_minus_b_whole_squared_plus_4ab(10, 2))"
   ],
   "metadata": {
    "collapsed": false,
    "ExecuteTime": {
     "end_time": "2023-08-05T15:43:21.357220Z",
     "start_time": "2023-08-05T15:43:21.325027Z"
    }
   }
  },
  {
   "cell_type": "code",
   "execution_count": 4,
   "outputs": [
    {
     "name": "stdout",
     "output_type": "stream",
     "text": [
      "64\n",
      "64\n",
      "64\n"
     ]
    }
   ],
   "source": [
    "print(mF.a_minus_b_whole_squared(10, 2))\n",
    "print(mF.a_squared_minus_2ab_plus_b_squared(10, 2))\n",
    "print(mF.a_plus_b_whole_squared_minus_4ab(10, 2))"
   ],
   "metadata": {
    "collapsed": false,
    "ExecuteTime": {
     "end_time": "2023-08-05T15:44:01.036707Z",
     "start_time": "2023-08-05T15:44:00.991159Z"
    }
   }
  },
  {
   "cell_type": "code",
   "execution_count": 2,
   "outputs": [
    {
     "name": "stdout",
     "output_type": "stream",
     "text": [
      "992\n",
      "992\n",
      "992\n"
     ]
    }
   ],
   "source": [
    "print(mF.a_cubed_minus_b_cubed(10, 2))\n",
    "print(mF.a_minus_b_whole_cubed_plus_3ab_times_a_minus_b(10, 2))\n",
    "print(mF.a_minus_b_times_a_squared_plus_ab_plus_b_squared(10, 2))"
   ],
   "metadata": {
    "collapsed": false,
    "ExecuteTime": {
     "end_time": "2023-08-05T15:47:16.094948Z",
     "start_time": "2023-08-05T15:47:16.090548Z"
    }
   }
  },
  {
   "cell_type": "code",
   "execution_count": 3,
   "outputs": [
    {
     "name": "stdout",
     "output_type": "stream",
     "text": [
      "1008\n",
      "1008\n",
      "1008\n"
     ]
    }
   ],
   "source": [
    "print(mF.a_cubed_plus_b_cubed(10, 2))\n",
    "print(mF.a_plus_b_whole_cubed_minus_3ab_times_a_plus_b(10, 2))\n",
    "print(mF.a_plus_b_times_a_squared_minus_ab_plus_b_squared(10, 2))"
   ],
   "metadata": {
    "collapsed": false,
    "ExecuteTime": {
     "end_time": "2023-08-05T15:47:48.043315Z",
     "start_time": "2023-08-05T15:47:48.033938Z"
    }
   }
  },
  {
   "cell_type": "code",
   "execution_count": 4,
   "outputs": [
    {
     "name": "stdout",
     "output_type": "stream",
     "text": [
      "180\n",
      "180\n"
     ]
    }
   ],
   "source": [
    "print(mF.x_plus_a_times_x_plus_b(10, 5, 2))\n",
    "print(mF.x_squared_plus_a_plus_b_times_x_plus_ab(10, 5, 2))"
   ],
   "metadata": {
    "collapsed": false,
    "ExecuteTime": {
     "end_time": "2023-08-05T15:48:48.295563Z",
     "start_time": "2023-08-05T15:48:48.266721Z"
    }
   }
  },
  {
   "cell_type": "code",
   "execution_count": 7,
   "outputs": [
    {
     "name": "stdout",
     "output_type": "stream",
     "text": [
      "125\n",
      "125\n",
      "125\n"
     ]
    }
   ],
   "source": [
    "print(mF.a_squared_plus_b_squared(10, 5))\n",
    "print(mF.addition(mF.a_plus_b_whole_square(10, 5), mF.negative_2ab(10,5)))\n",
    "print(mF.addition(mF.a_minus_b_whole_squared(10, 5), mF.positive_2ab(10,5)))"
   ],
   "metadata": {
    "collapsed": false,
    "ExecuteTime": {
     "end_time": "2023-08-05T15:50:30.095687Z",
     "start_time": "2023-08-05T15:50:30.073380Z"
    }
   }
  },
  {
   "cell_type": "code",
   "execution_count": null,
   "outputs": [],
   "source": [],
   "metadata": {
    "collapsed": false
   }
  },
  {
   "cell_type": "markdown",
   "source": [
    "### Function names\n",
    "\n",
    "addition(x: int, y: int)\n",
    "subtraction(x: int, y: int)\n",
    "multiplication(x: float, y: float)\n",
    "division(x: float, y: float)\n",
    "exponentiation(x: float, y: float)\n",
    "square_root(x: float)\n",
    "floor_division(x: int, y: int)\n",
    "modulus(x: int, y: int)\n",
    "logarithm(x: float, base: float)\n",
    "sine(x: float)\n",
    "\n",
    "cosine(x: float)\n",
    "tangent(x: float)\n",
    "arcsine(x: float)\n",
    "arccosine(x: float)\n",
    "arctangent(x: float)\n",
    "hyperbolic_sine(x: float)\n",
    "hyperbolic_cosine(x: float)\n",
    "hyperbolic_tangent(x: float)\n",
    "logarithm_base_10(x: float)\n",
    "logarithm_base_2(x: float)\n",
    "\n",
    "degrees_to_radians(x: float)\n",
    "radians_to_degrees(x: float)\n",
    "gcd(x: int, y: int)\n",
    "lcm(x: int, y: int)\n",
    "isqrt(x: int)\n",
    "pow_mod(x: int, y: int, mod: int)\n",
    "ceil(x: float)\n",
    "floor(x: float)\n",
    "round(x: float)\n",
    "absolute_difference(x: float, y: float)\n",
    "\n",
    "greatest_value(x: float, y: float)\n",
    "smallest_value(x: float, y: float)\n",
    "product(numbers: list)\n",
    "factorial(x: int)\n",
    "is_prime(x: int)\n",
    "prime_factors(x: int)\n",
    "is_perfect_square(x: int)\n",
    "is_perfect_cube(x: int)\n",
    "mean(numbers: list)\n",
    "median(numbers: list)\n",
    "\n",
    "relu(x: float)\n",
    "ascending_sort(lst: list[int])\n",
    "descending_sort(lst: list[int])\n",
    "square_int(x: int)\n",
    "square(x: float)\n",
    "absolute(x: float)\n",
    "power_of_ten(x: float)\n",
    "cube(x: float)\n",
    "cube_root(x: float)\n",
    "is_even(x: int)\n",
    "is_odd(x: int)\n",
    "\n",
    "max_value(lst: list[int])\n",
    "min_value(lst: list[int])\n",
    "nth_root(x: float, n: int)\n",
    "geometric_mean(lst: list[float])\n",
    "is_power_of_two(x: int)\n",
    "binary_to_decimal(binary)\n",
    "decimal_to_binary(decimal)\n",
    "is_palindrome(x: str)\n",
    "sum_of_digits(x: int)\n",
    "hypotenuse(a: float, b: float)\n",
    "\n",
    "circle_area(radius: float)\n",
    "permutation(n: int, r: int)\n",
    "combination(n: int, r: int)\n",
    "invert_number(number: float)\n",
    "float_to_int(value: float)\n",
    "int_to_float(value: int)\n",
    "geometric_series_sum(a: float, r: float, n: int)\n",
    "sigmoid(x: float)\n",
    "cosine_similarity(vector1: list, vector2: list)\n",
    "euler_totient(n: int)\n",
    "\n",
    "l1_norm(vector: list)\n",
    "l2_norm(vector: list)\n",
    "average(numbers: list)\n",
    "sum(numbers: list)\n",
    "length(numbers: list)\n",
    "check_same_string(str1: str, str2: str)\n",
    "reverse_string(input_str: str)\n",
    "get_pi()\n",
    "get_e()\n",
    "calculate_dot_product(vector1: list, vector2: list)\n",
    "\n",
    "a_plus_b_whole_square(a: int, b: int)\n",
    "a_squared_plus_2ab_plus_b_squared(a: int, b: int)\n",
    "a_minus_b_whole_squared_plus_4ab(a: int, b: int)\n",
    "a_minus_b_whole_squared(a: int, b: int)\n",
    "a_squared_minus_2ab_plus_b_squared(a: int, b: int)\n",
    "a_plus_b_whole_squared_minus_4ab(a: int, b: int)\n",
    "a_squared_plus_b_squared(a: int, b: int)\n",
    "\n",
    "negative_2ab(a: int, b: int)\n",
    "positive_2ab(a: int, b: int)\n",
    "x_plus_a_times_x_plus_b(x: int, a: int, b: int)\n",
    "x_squared_plus_a_plus_b_times_x_plus_ab(x: int, a: int, b: int)\n",
    "a_cubed_plus_b_cubed(a: int, b: int)\n",
    "a_plus_b_whole_cubed_minus_3ab_times_a_plus_b(a: int, b: int)\n",
    "a_plus_b_times_a_squared_minus_ab_plus_b_squared(a: int, b: int)\n",
    "a_cubed_minus_b_cubed(a: int, b: int)\n",
    "a_minus_b_whole_cubed_plus_3ab_times_a_minus_b(a: int, b: int)\n",
    "a_minus_b_times_a_squared_plus_ab_plus_b_squared(a: int, b: int)\n",
    "\n"
   ],
   "metadata": {
    "collapsed": false
   }
  },
  {
   "cell_type": "code",
   "execution_count": 14,
   "outputs": [
    {
     "name": "stdout",
     "output_type": "stream",
     "text": [
      "101.0\n"
     ]
    }
   ],
   "source": [
    "print(mF.geometric_series_sum(1,100,2))"
   ],
   "metadata": {
    "collapsed": false,
    "ExecuteTime": {
     "end_time": "2023-08-07T15:37:13.245515Z",
     "start_time": "2023-08-07T15:37:13.207015Z"
    }
   }
  },
  {
   "cell_type": "code",
   "execution_count": null,
   "outputs": [],
   "source": [],
   "metadata": {
    "collapsed": false
   }
  }
 ],
 "metadata": {
  "kernelspec": {
   "display_name": "Python 3",
   "language": "python",
   "name": "python3"
  },
  "language_info": {
   "codemirror_mode": {
    "name": "ipython",
    "version": 2
   },
   "file_extension": ".py",
   "mimetype": "text/x-python",
   "name": "python",
   "nbconvert_exporter": "python",
   "pygments_lexer": "ipython2",
   "version": "2.7.6"
  }
 },
 "nbformat": 4,
 "nbformat_minor": 0
}
