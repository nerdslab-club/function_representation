{
 "cells": [
  {
   "cell_type": "code",
   "execution_count": 57,
   "outputs": [],
   "source": [
    "from math_functions import MathFunctions as mF"
   ],
   "metadata": {
    "collapsed": false,
    "ExecuteTime": {
     "end_time": "2023-08-04T16:08:27.744421Z",
     "start_time": "2023-08-04T16:08:27.677251Z"
    }
   }
  },
  {
   "cell_type": "code",
   "execution_count": 58,
   "metadata": {
    "collapsed": true,
    "ExecuteTime": {
     "end_time": "2023-08-04T16:08:27.748753Z",
     "start_time": "2023-08-04T16:08:27.681538Z"
    }
   },
   "outputs": [
    {
     "name": "stdout",
     "output_type": "stream",
     "text": [
      "5040\n",
      "210\n",
      "210\n"
     ]
    }
   ],
   "source": [
    "# Relationship between permutation, combination, factorial and floor_division\n",
    "print(mF.permutation(10,4))\n",
    "print(mF.combination(10,4))\n",
    "print(mF.floor_division(mF.permutation(10,4), mF.factorial(4)))"
   ]
  },
  {
   "cell_type": "code",
   "execution_count": 59,
   "outputs": [
    {
     "name": "stdout",
     "output_type": "stream",
     "text": [
      "5040\n",
      "210\n",
      "210\n"
     ]
    }
   ],
   "source": [
    "# Relationship between permutation, combination, factorial, invert_number, multiplication and float_to_int\n",
    "print(mF.permutation(10,4))\n",
    "print(mF.combination(10,4))\n",
    "print(mF.float_to_int(mF.multiplication(mF.permutation(10,4), mF.invert_number(mF.factorial(4)))))"
   ],
   "metadata": {
    "collapsed": false,
    "ExecuteTime": {
     "end_time": "2023-08-04T16:08:27.748937Z",
     "start_time": "2023-08-04T16:08:27.684502Z"
    }
   }
  },
  {
   "cell_type": "code",
   "execution_count": 60,
   "outputs": [
    {
     "name": "stdout",
     "output_type": "stream",
     "text": [
      "4.5\n",
      "4.5\n"
     ]
    }
   ],
   "source": [
    "# Relationship between average, division, summation and lengthOfArray\n",
    "print(mF.average([1,2,3,4,5,6,7,8]))\n",
    "print(mF.division(mF.sum([1,2,3,4,5,6,7,8]), mF.length([1,2,3,4,5,6,7,8])))"
   ],
   "metadata": {
    "collapsed": false,
    "ExecuteTime": {
     "end_time": "2023-08-04T16:08:27.774315Z",
     "start_time": "2023-08-04T16:08:27.691365Z"
    }
   }
  },
  {
   "cell_type": "code",
   "execution_count": 61,
   "outputs": [
    {
     "name": "stdout",
     "output_type": "stream",
     "text": [
      "30\n",
      "30\n"
     ]
    }
   ],
   "source": [
    "print(mF.addition(10,20))\n",
    "print(mF.sum([10,20]))"
   ],
   "metadata": {
    "collapsed": false,
    "ExecuteTime": {
     "end_time": "2023-08-04T16:08:27.774561Z",
     "start_time": "2023-08-04T16:08:27.697603Z"
    }
   }
  },
  {
   "cell_type": "code",
   "execution_count": 62,
   "outputs": [
    {
     "name": "stdout",
     "output_type": "stream",
     "text": [
      "100\n",
      "100\n",
      "1000\n",
      "1000\n"
     ]
    }
   ],
   "source": [
    "# f2f\n",
    "print(mF.exponentiation(10,2))\n",
    "print(mF.multiplication(10,10))\n",
    "\n",
    "print(mF.exponentiation(10,3))\n",
    "print(mF.multiplication(mF.multiplication(10,10), 10))"
   ],
   "metadata": {
    "collapsed": false,
    "ExecuteTime": {
     "end_time": "2023-08-04T16:08:27.774659Z",
     "start_time": "2023-08-04T16:08:27.702881Z"
    }
   }
  },
  {
   "cell_type": "markdown",
   "source": [
    "difference between gpt and CL:\n",
    "1. gpt model use it's internal knowledge base\n",
    "2. CL learn which available function can be used to perform the task"
   ],
   "metadata": {
    "collapsed": false
   }
  },
  {
   "cell_type": "code",
   "execution_count": 63,
   "outputs": [
    {
     "name": "stdout",
     "output_type": "stream",
     "text": [
      "5\n",
      "5\n"
     ]
    }
   ],
   "source": [
    "# f2f\n",
    "print(mF.subtraction(10,5))\n",
    "print(mF.addition(10, mF.multiplication(-1,5)))"
   ],
   "metadata": {
    "collapsed": false,
    "ExecuteTime": {
     "end_time": "2023-08-04T16:08:27.774739Z",
     "start_time": "2023-08-04T16:08:27.706914Z"
    }
   }
  },
  {
   "cell_type": "code",
   "execution_count": 64,
   "outputs": [
    {
     "name": "stdout",
     "output_type": "stream",
     "text": [
      "20\n",
      "20\n",
      "30\n",
      "30\n"
     ]
    }
   ],
   "source": [
    "# f2f\n",
    "print(mF.multiplication(10,2))\n",
    "print(mF.addition(10,10))\n",
    "\n",
    "print(mF.multiplication(10,3))\n",
    "print(mF.addition(mF.addition(10,10),10))\n"
   ],
   "metadata": {
    "collapsed": false,
    "ExecuteTime": {
     "end_time": "2023-08-04T16:08:27.774817Z",
     "start_time": "2023-08-04T16:08:27.709534Z"
    }
   }
  },
  {
   "cell_type": "code",
   "execution_count": 65,
   "outputs": [
    {
     "name": "stdout",
     "output_type": "stream",
     "text": [
      "3\n",
      "3\n"
     ]
    }
   ],
   "source": [
    "print(mF.floor(mF.division(10,3)))\n",
    "print(mF.floor_division(10,3))"
   ],
   "metadata": {
    "collapsed": false,
    "ExecuteTime": {
     "end_time": "2023-08-04T16:08:27.774911Z",
     "start_time": "2023-08-04T16:08:27.712979Z"
    }
   }
  },
  {
   "cell_type": "code",
   "execution_count": 66,
   "outputs": [
    {
     "name": "stdout",
     "output_type": "stream",
     "text": [
      "100\n",
      "100.0\n"
     ]
    }
   ],
   "source": [
    "# f2f\n",
    "print(mF.exponentiation(10,2))\n",
    "print(mF.power(10,2))"
   ],
   "metadata": {
    "collapsed": false,
    "ExecuteTime": {
     "end_time": "2023-08-04T16:08:27.775032Z",
     "start_time": "2023-08-04T16:08:27.717710Z"
    }
   }
  },
  {
   "cell_type": "code",
   "execution_count": 67,
   "outputs": [
    {
     "name": "stdout",
     "output_type": "stream",
     "text": [
      "5\n",
      "5\n"
     ]
    }
   ],
   "source": [
    "print(mF.absolute(-5))\n",
    "print(mF.multiplication(-1,-5))"
   ],
   "metadata": {
    "collapsed": false,
    "ExecuteTime": {
     "end_time": "2023-08-04T16:08:27.775113Z",
     "start_time": "2023-08-04T16:08:27.720618Z"
    }
   }
  },
  {
   "cell_type": "markdown",
   "source": [
    "Exponentiation (exponentiation):\n",
    "The square root of a number x is the same as raising x to the power of 0.5. So, you can correlate the square_root function with the exponentiation function where the exponent is 0.5.\n",
    "\n",
    "Power (power):\n",
    "Similar to exponentiation, you can correlate the square_root function with the power function, where the exponent is 0.5.\n",
    "\n",
    "Inverse Function (invert_number):\n",
    "The inverse of squaring a number is taking its square root. You can correlate the square_root function with the invert_number function for the square operation.\n",
    "\n",
    "Power of Two (is_power_of_two):\n",
    "A number is a perfect square if and only if it's a power of two. You can correlate the square_root function with the is_power_of_two function by checking if the square root of a number is an integer.\n",
    "\n",
    "Hypotenuse (hypotenuse):\n",
    "In a right-angled triangle, the length of the hypotenuse is calculated using the Pythagorean theorem, which involves square roots. You can correlate the square_root function with the hypotenuse function."
   ],
   "metadata": {
    "collapsed": false
   }
  },
  {
   "cell_type": "code",
   "execution_count": 68,
   "outputs": [
    {
     "name": "stdout",
     "output_type": "stream",
     "text": [
      "3.0\n",
      "3.0\n",
      "3.0\n",
      "3.0\n"
     ]
    }
   ],
   "source": [
    "print(mF.square_root(9))\n",
    "print(mF.exponentiation(9,0.5))\n",
    "print(mF.exponentiation(9,mF.invert_number(2)))\n",
    "print(mF.invert_number(mF.exponentiation(9, -0.5)))\n"
   ],
   "metadata": {
    "collapsed": false,
    "ExecuteTime": {
     "end_time": "2023-08-04T16:08:27.776082Z",
     "start_time": "2023-08-04T16:08:27.734052Z"
    }
   }
  },
  {
   "cell_type": "code",
   "execution_count": 69,
   "outputs": [
    {
     "name": "stdout",
     "output_type": "stream",
     "text": [
      "3.9999999999999996\n",
      "3.9999999999999996\n"
     ]
    }
   ],
   "source": [
    "print(mF.cube_root(64))\n",
    "print(mF.exponentiation(64,mF.division(1,3)))"
   ],
   "metadata": {
    "collapsed": false,
    "ExecuteTime": {
     "end_time": "2023-08-04T16:08:27.776194Z",
     "start_time": "2023-08-04T16:08:27.736637Z"
    }
   }
  },
  {
   "cell_type": "code",
   "execution_count": 70,
   "outputs": [
    {
     "name": "stdout",
     "output_type": "stream",
     "text": [
      "1\n",
      "1\n"
     ]
    }
   ],
   "source": [
    "print(mF.modulus(10,3))\n",
    "print(mF.subtraction(10, mF.multiplication(3, mF.floor_division(10,3))))"
   ],
   "metadata": {
    "collapsed": false,
    "ExecuteTime": {
     "end_time": "2023-08-04T16:08:27.776381Z",
     "start_time": "2023-08-04T16:08:27.741593Z"
    }
   }
  },
  {
   "cell_type": "code",
   "execution_count": 71,
   "outputs": [
    {
     "name": "stdout",
     "output_type": "stream",
     "text": [
      "3.3219280948873626\n",
      "3.321928094887362\n",
      "1.0\n",
      "1.0\n"
     ]
    }
   ],
   "source": [
    "# janii na\n",
    "print(mF.logarithm(10,2))\n",
    "print(mF.logarithm_base_2(10))\n",
    "\n",
    "\n",
    "print(mF.logarithm(10,10))\n",
    "print(mF.logarithm_base_10(10))"
   ],
   "metadata": {
    "collapsed": false,
    "ExecuteTime": {
     "end_time": "2023-08-04T16:08:27.776532Z",
     "start_time": "2023-08-04T16:08:27.744645Z"
    }
   }
  },
  {
   "cell_type": "code",
   "execution_count": 72,
   "outputs": [
    {
     "name": "stdout",
     "output_type": "stream",
     "text": [
      "4\n",
      "4.0\n"
     ]
    }
   ],
   "source": [
    "print(mF.gcd(20,4))\n",
    "print(mF.division(mF.multiplication(20,4), mF.lcm(20,4)))"
   ],
   "metadata": {
    "collapsed": false,
    "ExecuteTime": {
     "end_time": "2023-08-04T16:19:05.609575Z",
     "start_time": "2023-08-04T16:19:05.576969Z"
    }
   }
  },
  {
   "cell_type": "code",
   "execution_count": 73,
   "outputs": [
    {
     "name": "stdout",
     "output_type": "stream",
     "text": [
      "20\n",
      "20.0\n"
     ]
    }
   ],
   "source": [
    "print(mF.lcm(20,4))\n",
    "print(mF.division(mF.multiplication(20,4), mF.gcd(20,4)))"
   ],
   "metadata": {
    "collapsed": false,
    "ExecuteTime": {
     "end_time": "2023-08-04T16:19:26.922575Z",
     "start_time": "2023-08-04T16:19:26.910314Z"
    }
   }
  },
  {
   "cell_type": "code",
   "execution_count": null,
   "outputs": [],
   "source": [],
   "metadata": {
    "collapsed": false
   }
  }
 ],
 "metadata": {
  "kernelspec": {
   "display_name": "Python 3",
   "language": "python",
   "name": "python3"
  },
  "language_info": {
   "codemirror_mode": {
    "name": "ipython",
    "version": 2
   },
   "file_extension": ".py",
   "mimetype": "text/x-python",
   "name": "python",
   "nbconvert_exporter": "python",
   "pygments_lexer": "ipython2",
   "version": "2.7.6"
  }
 },
 "nbformat": 4,
 "nbformat_minor": 0
}
