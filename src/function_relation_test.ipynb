{
 "cells": [
  {
   "cell_type": "code",
   "execution_count": 2,
   "outputs": [],
   "source": [
    "from math_functions import MathFunctions"
   ],
   "metadata": {
    "collapsed": false,
    "ExecuteTime": {
     "end_time": "2023-07-27T03:27:27.711687Z",
     "start_time": "2023-07-27T03:27:27.506566Z"
    }
   }
  },
  {
   "cell_type": "code",
   "execution_count": 2,
   "metadata": {
    "collapsed": true,
    "ExecuteTime": {
     "end_time": "2023-07-26T11:55:22.765400Z",
     "start_time": "2023-07-26T11:55:22.762980Z"
    }
   },
   "outputs": [
    {
     "name": "stdout",
     "output_type": "stream",
     "text": [
      "5040\n",
      "210\n",
      "210\n"
     ]
    }
   ],
   "source": [
    "# Relationship between permutation, combination, factorial and floor_division\n",
    "print(MathFunctions.permutation(10,4))\n",
    "print(MathFunctions.combination(10,4))\n",
    "print(MathFunctions.floor_division(MathFunctions.permutation(10,4), MathFunctions.factorial(4)))"
   ]
  },
  {
   "cell_type": "code",
   "execution_count": 3,
   "outputs": [
    {
     "name": "stdout",
     "output_type": "stream",
     "text": [
      "5040\n",
      "210\n",
      "210\n"
     ]
    }
   ],
   "source": [
    "# Relationship between permutation, combination, factorial, invert_number, multiplication and float_to_int\n",
    "print(MathFunctions.permutation(10,4))\n",
    "print(MathFunctions.combination(10,4))\n",
    "print(MathFunctions.float_to_int(MathFunctions.multiplication(MathFunctions.permutation(10,4), MathFunctions.invert_number(MathFunctions.factorial(4)))))"
   ],
   "metadata": {
    "collapsed": false,
    "ExecuteTime": {
     "end_time": "2023-07-26T11:55:23.232154Z",
     "start_time": "2023-07-26T11:55:23.230011Z"
    }
   }
  },
  {
   "cell_type": "code",
   "execution_count": 3,
   "outputs": [
    {
     "name": "stdout",
     "output_type": "stream",
     "text": [
      "4.5\n",
      "4.5\n"
     ]
    }
   ],
   "source": [
    "# Relationship between average, division, summation and lengthOfArray\n",
    "print(MathFunctions.average([1,2,3,4,5,6,7,8]))\n",
    "print(MathFunctions.division(MathFunctions.sum([1,2,3,4,5,6,7,8]), MathFunctions.length([1,2,3,4,5,6,7,8])))"
   ],
   "metadata": {
    "collapsed": false,
    "ExecuteTime": {
     "end_time": "2023-07-27T03:27:29.491715Z",
     "start_time": "2023-07-27T03:27:29.480602Z"
    }
   }
  },
  {
   "cell_type": "code",
   "execution_count": null,
   "outputs": [],
   "source": [],
   "metadata": {
    "collapsed": false
   }
  }
 ],
 "metadata": {
  "kernelspec": {
   "display_name": "Python 3",
   "language": "python",
   "name": "python3"
  },
  "language_info": {
   "codemirror_mode": {
    "name": "ipython",
    "version": 2
   },
   "file_extension": ".py",
   "mimetype": "text/x-python",
   "name": "python",
   "nbconvert_exporter": "python",
   "pygments_lexer": "ipython2",
   "version": "2.7.6"
  }
 },
 "nbformat": 4,
 "nbformat_minor": 0
}
