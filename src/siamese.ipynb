{
 "cells": [
  {
   "cell_type": "markdown",
   "source": [
    "#### Main notebook for training and saving siamese network."
   ],
   "metadata": {
    "collapsed": false
   }
  },
  {
   "cell_type": "code",
   "execution_count": null,
   "metadata": {
    "collapsed": true,
    "is_executing": true
   },
   "outputs": [],
   "source": [
    "from src.sn_dataloader import SNDataloader\n",
    "from src.sn_dataset import SNDataset\n",
    "from src.siamese_network import SiameseNetwork\n",
    "import pytorch_lightning as pl\n",
    "import functions_manager as fm\n",
    "from pytorch_lightning import loggers as pl_loggers\n",
    "\n",
    "# Create Function Manager instance\n",
    "function_manager = fm.FunctionManager()\n",
    "\n",
    "# Create an instance of the SiameseNetwork\n",
    "model = SiameseNetwork()\n",
    "\n",
    "# Initialize the network\n",
    "model.init_network()\n",
    "\n",
    "\n",
    "# Create the dataset\n",
    "dataset = SNDataset(name_to_reference_map= function_manager.getNameToReference(),\n",
    "                    positive_negative_function_map= function_manager.getPositiveNegativeFunctionMap())\n",
    "\n",
    "# Create the dataloader\n",
    "batch_size = 8\n",
    "SNDataloader = SNDataloader(dataset, batch_size=batch_size, shuffle=True)\n",
    "dataLoader = SNDataloader.getDataLoader()\n",
    "\n",
    "# Create a logger\n",
    "tb_logger = pl_loggers.TensorBoardLogger(save_dir=\"logs/\")\n",
    "\n",
    "# Train the network\n",
    "# k = 2\n",
    "# trainer = pl.Trainer(max_epochs=20, log_every_n_steps=k, logger=tb_logger)\n",
    "# trainer.fit(model, dataLoader)"
   ]
  },
  {
   "cell_type": "code",
   "execution_count": 2,
   "outputs": [
    {
     "name": "stdout",
     "output_type": "stream",
     "text": [
      "tensor([2.7713e-05], grad_fn=<NormBackward1>)\n",
      "tensor([4.4640], grad_fn=<NormBackward1>)\n",
      "tensor([3.5096], grad_fn=<NormBackward1>)\n"
     ]
    }
   ],
   "source": [
    "# Test Similarity check\n",
    "from src.code_embedding import CodeEmbedding\n",
    "\n",
    "anchor_fun, positive_fun, negative_fun = dataset.samples[10000]\n",
    "# print(anchor_fun, positive_fun, negative_fun)\n",
    "\n",
    "code_embedding = CodeEmbedding()\n",
    "anchor = code_embedding.getPerfectFunctionEmbedding(anchor_fun)\n",
    "positive = code_embedding.getPerfectFunctionEmbedding(positive_fun)\n",
    "negative = code_embedding.getPerfectFunctionEmbedding(negative_fun)\n",
    "# print(anchor, positive, negative)\n",
    "\n",
    "print(model.similarity_inference(anchor, anchor))\n",
    "print(model.similarity_inference(anchor, positive))\n",
    "print(model.similarity_inference(anchor, negative))\n",
    "\n"
   ],
   "metadata": {
    "collapsed": false,
    "ExecuteTime": {
     "end_time": "2023-07-05T05:56:42.668811Z",
     "start_time": "2023-07-05T05:56:38.659304Z"
    }
   }
  },
  {
   "cell_type": "code",
   "execution_count": 3,
   "outputs": [
    {
     "name": "stdout",
     "output_type": "stream",
     "text": [
      "1 tensor(1.5544, grad_fn=<MeanBackward0>)\n"
     ]
    },
    {
     "name": "stderr",
     "output_type": "stream",
     "text": [
      "/Users/mohimenul.admin/miniforge3/envs/function-representation/lib/python3.10/site-packages/pytorch_lightning/core/module.py:407: UserWarning: You are trying to `self.log()` but the `self.trainer` reference is not registered on the model yet. This is most likely because the model hasn't been passed to the `Trainer`\n",
      "  rank_zero_warn(\n"
     ]
    }
   ],
   "source": [
    "# check training step\n",
    "loss = model.training_step([anchor, positive, negative], 1)"
   ],
   "metadata": {
    "collapsed": false,
    "ExecuteTime": {
     "end_time": "2023-07-05T05:56:45.311207Z",
     "start_time": "2023-07-05T05:56:44.784596Z"
    }
   }
  },
  {
   "cell_type": "code",
   "execution_count": 4,
   "outputs": [
    {
     "name": "stdout",
     "output_type": "stream",
     "text": [
      "tensor(1.5544, grad_fn=<MeanBackward0>)\n"
     ]
    }
   ],
   "source": [
    "# Check Triplet loss\n",
    "anchor_forward = model(anchor)\n",
    "position_forward = model(positive)\n",
    "negative_forward = model(negative)\n",
    "# print(anchor_forward.shape)\n",
    "\n",
    "triplet_loss = model.triplet_loss(anchor_forward, position_forward, negative_forward, margin=0.6)\n",
    "print(triplet_loss)"
   ],
   "metadata": {
    "collapsed": false,
    "ExecuteTime": {
     "end_time": "2023-07-05T05:56:52.186518Z",
     "start_time": "2023-07-05T05:56:51.763709Z"
    }
   }
  },
  {
   "cell_type": "code",
   "execution_count": 6,
   "outputs": [
    {
     "ename": "TypeError",
     "evalue": "CodeEmbedding.getFinalFunctionEmbedding() got an unexpected keyword argument 'dim'",
     "output_type": "error",
     "traceback": [
      "\u001B[0;31m---------------------------------------------------------------------------\u001B[0m",
      "\u001B[0;31mTypeError\u001B[0m                                 Traceback (most recent call last)",
      "Cell \u001B[0;32mIn[6], line 2\u001B[0m\n\u001B[1;32m      1\u001B[0m \u001B[38;5;66;03m# Check final function embedding size\u001B[39;00m\n\u001B[0;32m----> 2\u001B[0m final_func_embedding \u001B[38;5;241m=\u001B[39m \u001B[43mcode_embedding\u001B[49m\u001B[38;5;241;43m.\u001B[39;49m\u001B[43mgetFinalFunctionEmbedding\u001B[49m\u001B[43m(\u001B[49m\u001B[43manchor_forward\u001B[49m\u001B[43m,\u001B[49m\u001B[43m \u001B[49m\u001B[43mposition_forward\u001B[49m\u001B[43m,\u001B[49m\u001B[43m \u001B[49m\u001B[43mdim\u001B[49m\u001B[38;5;241;43m=\u001B[39;49m\u001B[38;5;241;43m0\u001B[39;49m\u001B[43m)\u001B[49m\n\u001B[1;32m      3\u001B[0m code_embedding\u001B[38;5;241m.\u001B[39mgetShape(final_func_embedding)\n",
      "\u001B[0;31mTypeError\u001B[0m: CodeEmbedding.getFinalFunctionEmbedding() got an unexpected keyword argument 'dim'"
     ]
    }
   ],
   "source": [
    "# Check final function embedding size\n",
    "final_func_embedding = code_embedding.getFinalFunctionEmbedding(anchor_forward, position_forward, dim=0)\n",
    "code_embedding.getShape(final_func_embedding)"
   ],
   "metadata": {
    "collapsed": false,
    "ExecuteTime": {
     "end_time": "2023-07-05T06:04:52.493127Z",
     "start_time": "2023-07-05T06:04:52.197208Z"
    }
   }
  },
  {
   "cell_type": "code",
   "execution_count": null,
   "outputs": [],
   "source": [],
   "metadata": {
    "collapsed": false
   }
  }
 ],
 "metadata": {
  "kernelspec": {
   "display_name": "Python 3",
   "language": "python",
   "name": "python3"
  },
  "language_info": {
   "codemirror_mode": {
    "name": "ipython",
    "version": 2
   },
   "file_extension": ".py",
   "mimetype": "text/x-python",
   "name": "python",
   "nbconvert_exporter": "python",
   "pygments_lexer": "ipython2",
   "version": "2.7.6"
  }
 },
 "nbformat": 4,
 "nbformat_minor": 0
}
