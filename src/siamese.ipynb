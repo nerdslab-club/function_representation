{
 "cells": [
  {
   "cell_type": "markdown",
   "source": [
    "#### Main notebook for training and saving siamese network."
   ],
   "metadata": {
    "collapsed": false
   }
  },
  {
   "cell_type": "code",
   "execution_count": 1,
   "metadata": {
    "collapsed": true,
    "ExecuteTime": {
     "end_time": "2023-08-04T13:57:51.298846Z",
     "start_time": "2023-08-04T13:57:30.065112Z"
    }
   },
   "outputs": [
    {
     "name": "stderr",
     "output_type": "stream",
     "text": [
      "GPU available: False, used: False\n",
      "TPU available: False, using: 0 TPU cores\n",
      "IPU available: False, using: 0 IPUs\n",
      "HPU available: False, using: 0 HPUs\n",
      "Missing logger folder: logs/lightning_logs\n",
      "\n",
      "  | Name    | Type       | Params\n",
      "---------------------------------------\n",
      "0 | encoder | Sequential | 532 M \n",
      "---------------------------------------\n",
      "532 M     Trainable params\n",
      "0         Non-trainable params\n",
      "532 M     Total params\n",
      "2,130.457 Total estimated model params size (MB)\n",
      "/Users/joaa/miniforge3/envs/function-representation/lib/python3.10/site-packages/pytorch_lightning/trainer/connectors/data_connector.py:432: PossibleUserWarning: The dataloader, train_dataloader, does not have many workers which may be a bottleneck. Consider increasing the value of the `num_workers` argument` (try 8 which is the number of cpus on this machine) in the `DataLoader` init to improve performance.\n",
      "  rank_zero_warn(\n"
     ]
    },
    {
     "data": {
      "text/plain": "Training: 0it [00:00, ?it/s]",
      "application/vnd.jupyter.widget-view+json": {
       "version_major": 2,
       "version_minor": 0,
       "model_id": "dc04e5068fe94451b5d2c6c361431dbf"
      }
     },
     "metadata": {},
     "output_type": "display_data"
    },
    {
     "name": "stderr",
     "output_type": "stream",
     "text": [
      "/Users/joaa/miniforge3/envs/function-representation/lib/python3.10/site-packages/pytorch_lightning/trainer/call.py:52: UserWarning: Detected KeyboardInterrupt, attempting graceful shutdown...\n",
      "  rank_zero_warn(\"Detected KeyboardInterrupt, attempting graceful shutdown...\")\n"
     ]
    }
   ],
   "source": [
    "from sn_dataloader import SNDataloader\n",
    "from sn_dataset import SNDataset\n",
    "from siamese_network import SiameseNetwork\n",
    "import pytorch_lightning as pl\n",
    "import functions_manager as fm\n",
    "from pytorch_lightning import loggers as pl_loggers\n",
    "\n",
    "# Create Function Manager instance\n",
    "function_manager = fm.FunctionManager()\n",
    "\n",
    "# Create an instance of the SiameseNetwork\n",
    "model = SiameseNetwork()\n",
    "\n",
    "# Initialize the network\n",
    "model.init_network()\n",
    "\n",
    "\n",
    "# Create the dataset\n",
    "dataset = SNDataset(name_to_reference_map= function_manager.get_name_to_reference(),\n",
    "                    positive_negative_function_map= function_manager.get_positive_negative_function_map())\n",
    "\n",
    "# Create the dataloader\n",
    "batch_size = 8\n",
    "SNDataloader = SNDataloader(dataset, batch_size=batch_size, shuffle=True)\n",
    "dataLoader = SNDataloader.get_data_loader()\n",
    "\n",
    "# Create a logger\n",
    "tb_logger = pl_loggers.TensorBoardLogger(save_dir=\"logs/\")\n",
    "\n",
    "# Train the network\n",
    "k = 2\n",
    "trainer = pl.Trainer(max_epochs=20, log_every_n_steps=k, logger=tb_logger, fast_dev_run=True)\n",
    "trainer.fit(model, dataLoader)"
   ]
  },
  {
   "cell_type": "code",
   "execution_count": 2,
   "outputs": [
    {
     "name": "stdout",
     "output_type": "stream",
     "text": [
      "<function MathFunctions.a_plus_b_times_a_squared_minus_ab_plus_b_squared at 0x12563c940> <function MathFunctions.a_cubed_plus_b_cubed at 0x12563c820> <function MathFunctions.arccosine at 0x125621d80>\n",
      "tensor([2.7713e-05], grad_fn=<NormBackward1>)\n",
      "tensor([4.6593], grad_fn=<NormBackward1>)\n",
      "tensor([4.9510], grad_fn=<NormBackward1>)\n"
     ]
    }
   ],
   "source": [
    "# Test Similarity check\n",
    "from code_embedding import CodeEmbedding\n",
    "\n",
    "anchor_fun, positive_fun, negative_fun = dataset.samples[10000]\n",
    "print(anchor_fun, positive_fun, negative_fun)\n",
    "\n",
    "code_embedding = CodeEmbedding()\n",
    "anchor = code_embedding.get_perfect_function_embedding(anchor_fun)\n",
    "positive = code_embedding.get_perfect_function_embedding(positive_fun)\n",
    "negative = code_embedding.get_perfect_function_embedding(negative_fun)\n",
    "# print(anchor, positive, negative)\n",
    "\n",
    "print(model.similarity_inference(anchor, anchor))\n",
    "print(model.similarity_inference(anchor, positive))\n",
    "print(model.similarity_inference(anchor, negative))\n",
    "\n"
   ],
   "metadata": {
    "collapsed": false,
    "ExecuteTime": {
     "end_time": "2023-08-04T13:58:16.998904Z",
     "start_time": "2023-08-04T13:58:01.199396Z"
    }
   }
  },
  {
   "cell_type": "code",
   "execution_count": 3,
   "outputs": [
    {
     "name": "stdout",
     "output_type": "stream",
     "text": [
      "1 tensor(0.3083, grad_fn=<MeanBackward0>)\n"
     ]
    }
   ],
   "source": [
    "# check training step\n",
    "loss = model.training_step([anchor, positive, negative], 1)"
   ],
   "metadata": {
    "collapsed": false,
    "ExecuteTime": {
     "end_time": "2023-08-04T13:58:29.195455Z",
     "start_time": "2023-08-04T13:58:17.024321Z"
    }
   }
  },
  {
   "cell_type": "code",
   "execution_count": 4,
   "outputs": [
    {
     "name": "stdout",
     "output_type": "stream",
     "text": [
      "tensor(0.3083, grad_fn=<MeanBackward0>)\n"
     ]
    }
   ],
   "source": [
    "# Check Triplet loss\n",
    "anchor_forward = model(anchor)\n",
    "position_forward = model(positive)\n",
    "negative_forward = model(negative)\n",
    "# print(anchor_forward.shape)\n",
    "\n",
    "triplet_loss = model.triplet_loss(anchor_forward, position_forward, negative_forward, margin=0.6)\n",
    "print(triplet_loss)"
   ],
   "metadata": {
    "collapsed": false,
    "ExecuteTime": {
     "end_time": "2023-08-04T13:58:34.416110Z",
     "start_time": "2023-08-04T13:58:29.185040Z"
    }
   }
  },
  {
   "cell_type": "code",
   "execution_count": 5,
   "outputs": [
    {
     "name": "stdout",
     "output_type": "stream",
     "text": [
      "torch.Size([2, 768])\n",
      "2\n"
     ]
    },
    {
     "data": {
      "text/plain": "(torch.Size([2, 768]), 2)"
     },
     "execution_count": 5,
     "metadata": {},
     "output_type": "execute_result"
    }
   ],
   "source": [
    "# Check final function embedding size\n",
    "final_func_embedding = code_embedding.get_final_function_embedding(anchor_forward, position_forward, dim=0)\n",
    "code_embedding.get_shape(final_func_embedding)"
   ],
   "metadata": {
    "collapsed": false,
    "ExecuteTime": {
     "end_time": "2023-08-04T13:58:34.642592Z",
     "start_time": "2023-08-04T13:58:34.413229Z"
    }
   }
  },
  {
   "cell_type": "code",
   "execution_count": null,
   "outputs": [],
   "source": [],
   "metadata": {
    "collapsed": false
   }
  }
 ],
 "metadata": {
  "kernelspec": {
   "display_name": "Python 3",
   "language": "python",
   "name": "python3"
  },
  "language_info": {
   "codemirror_mode": {
    "name": "ipython",
    "version": 2
   },
   "file_extension": ".py",
   "mimetype": "text/x-python",
   "name": "python",
   "nbconvert_exporter": "python",
   "pygments_lexer": "ipython2",
   "version": "2.7.6"
  }
 },
 "nbformat": 4,
 "nbformat_minor": 0
}
