{
 "cells": [
  {
   "cell_type": "markdown",
   "source": [
    "#### Main notebook for training and saving siamese network."
   ],
   "metadata": {
    "collapsed": false
   }
  },
  {
   "cell_type": "code",
   "execution_count": 1,
   "metadata": {
    "collapsed": true,
    "ExecuteTime": {
     "end_time": "2023-07-26T07:41:16.025036Z",
     "start_time": "2023-07-26T06:42:32.692924Z"
    }
   },
   "outputs": [
    {
     "data": {
      "text/plain": "Downloading (…)okenizer_config.json:   0%|          | 0.00/25.0 [00:00<?, ?B/s]",
      "application/vnd.jupyter.widget-view+json": {
       "version_major": 2,
       "version_minor": 0,
       "model_id": "0f250a85f6e741bcab34a4134850db1d"
      }
     },
     "metadata": {},
     "output_type": "display_data"
    },
    {
     "data": {
      "text/plain": "Downloading (…)lve/main/config.json:   0%|          | 0.00/539 [00:00<?, ?B/s]",
      "application/vnd.jupyter.widget-view+json": {
       "version_major": 2,
       "version_minor": 0,
       "model_id": "2ad11f6c3e764056ba18bcfa05254283"
      }
     },
     "metadata": {},
     "output_type": "display_data"
    },
    {
     "data": {
      "text/plain": "Downloading (…)olve/main/vocab.json:   0%|          | 0.00/899k [00:00<?, ?B/s]",
      "application/vnd.jupyter.widget-view+json": {
       "version_major": 2,
       "version_minor": 0,
       "model_id": "5ee7622124fd4b8283100b58281d5b1a"
      }
     },
     "metadata": {},
     "output_type": "display_data"
    },
    {
     "data": {
      "text/plain": "Downloading (…)olve/main/merges.txt:   0%|          | 0.00/456k [00:00<?, ?B/s]",
      "application/vnd.jupyter.widget-view+json": {
       "version_major": 2,
       "version_minor": 0,
       "model_id": "9c73fd044a6b45aca6a9ee0416ced758"
      }
     },
     "metadata": {},
     "output_type": "display_data"
    },
    {
     "data": {
      "text/plain": "Downloading (…)cial_tokens_map.json:   0%|          | 0.00/772 [00:00<?, ?B/s]",
      "application/vnd.jupyter.widget-view+json": {
       "version_major": 2,
       "version_minor": 0,
       "model_id": "ab938bf1255b4f3e9a9f5329275087aa"
      }
     },
     "metadata": {},
     "output_type": "display_data"
    },
    {
     "data": {
      "text/plain": "Downloading pytorch_model.bin:   0%|          | 0.00/499M [00:00<?, ?B/s]",
      "application/vnd.jupyter.widget-view+json": {
       "version_major": 2,
       "version_minor": 0,
       "model_id": "f3073dcbf8dc43f698895855e180b3d7"
      }
     },
     "metadata": {},
     "output_type": "display_data"
    },
    {
     "name": "stderr",
     "output_type": "stream",
     "text": [
      "GPU available: False, used: False\n",
      "TPU available: False, using: 0 TPU cores\n",
      "IPU available: False, using: 0 IPUs\n",
      "HPU available: False, using: 0 HPUs\n",
      "Missing logger folder: logs/lightning_logs\n",
      "\n",
      "  | Name    | Type       | Params\n",
      "---------------------------------------\n",
      "0 | encoder | Sequential | 532 M \n",
      "---------------------------------------\n",
      "532 M     Trainable params\n",
      "0         Non-trainable params\n",
      "532 M     Total params\n",
      "2,130.457 Total estimated model params size (MB)\n",
      "/Users/joaa/miniforge3/envs/function-representation/lib/python3.10/site-packages/pytorch_lightning/trainer/connectors/data_connector.py:432: PossibleUserWarning: The dataloader, train_dataloader, does not have many workers which may be a bottleneck. Consider increasing the value of the `num_workers` argument` (try 8 which is the number of cpus on this machine) in the `DataLoader` init to improve performance.\n",
      "  rank_zero_warn(\n"
     ]
    },
    {
     "data": {
      "text/plain": "Training: 0it [00:00, ?it/s]",
      "application/vnd.jupyter.widget-view+json": {
       "version_major": 2,
       "version_minor": 0,
       "model_id": "9af8f7a3737f4f6583245b29b5b19617"
      }
     },
     "metadata": {},
     "output_type": "display_data"
    },
    {
     "name": "stdout",
     "output_type": "stream",
     "text": [
      "0 tensor(0., grad_fn=<MeanBackward0>)\n",
      "1 tensor(0., grad_fn=<MeanBackward0>)\n",
      "2 tensor(0., grad_fn=<MeanBackward0>)\n",
      "3 tensor(0., grad_fn=<MeanBackward0>)\n",
      "4 tensor(0., grad_fn=<MeanBackward0>)\n",
      "5 tensor(0., grad_fn=<MeanBackward0>)\n",
      "6 tensor(0., grad_fn=<MeanBackward0>)\n",
      "7 tensor(0., grad_fn=<MeanBackward0>)\n",
      "8 tensor(0., grad_fn=<MeanBackward0>)\n",
      "9 tensor(0., grad_fn=<MeanBackward0>)\n",
      "10 tensor(0., grad_fn=<MeanBackward0>)\n",
      "11 tensor(0., grad_fn=<MeanBackward0>)\n",
      "12 tensor(0., grad_fn=<MeanBackward0>)\n",
      "13 tensor(0., grad_fn=<MeanBackward0>)\n",
      "14 tensor(0., grad_fn=<MeanBackward0>)\n",
      "15 tensor(0., grad_fn=<MeanBackward0>)\n",
      "16 tensor(0., grad_fn=<MeanBackward0>)\n",
      "17 tensor(0., grad_fn=<MeanBackward0>)\n",
      "18 tensor(0., grad_fn=<MeanBackward0>)\n",
      "19 tensor(0., grad_fn=<MeanBackward0>)\n",
      "20 tensor(0., grad_fn=<MeanBackward0>)\n",
      "21 tensor(0., grad_fn=<MeanBackward0>)\n",
      "22 tensor(0., grad_fn=<MeanBackward0>)\n",
      "23 tensor(0., grad_fn=<MeanBackward0>)\n",
      "24 tensor(0., grad_fn=<MeanBackward0>)\n",
      "25 tensor(0., grad_fn=<MeanBackward0>)\n",
      "26 tensor(0., grad_fn=<MeanBackward0>)\n",
      "27 tensor(0., grad_fn=<MeanBackward0>)\n",
      "28 tensor(0., grad_fn=<MeanBackward0>)\n",
      "29 tensor(0., grad_fn=<MeanBackward0>)\n",
      "30 tensor(0., grad_fn=<MeanBackward0>)\n",
      "31 tensor(0., grad_fn=<MeanBackward0>)\n",
      "32 tensor(0., grad_fn=<MeanBackward0>)\n",
      "33 tensor(0., grad_fn=<MeanBackward0>)\n",
      "34 tensor(0., grad_fn=<MeanBackward0>)\n",
      "35 tensor(0., grad_fn=<MeanBackward0>)\n",
      "36 tensor(0., grad_fn=<MeanBackward0>)\n",
      "37 tensor(0., grad_fn=<MeanBackward0>)\n",
      "38 tensor(0., grad_fn=<MeanBackward0>)\n",
      "39 tensor(0., grad_fn=<MeanBackward0>)\n",
      "40 tensor(0., grad_fn=<MeanBackward0>)\n",
      "41 tensor(0., grad_fn=<MeanBackward0>)\n",
      "42 tensor(0., grad_fn=<MeanBackward0>)\n",
      "43 tensor(0., grad_fn=<MeanBackward0>)\n",
      "44 tensor(0., grad_fn=<MeanBackward0>)\n",
      "45 tensor(0., grad_fn=<MeanBackward0>)\n",
      "46 tensor(0., grad_fn=<MeanBackward0>)\n",
      "47 tensor(0., grad_fn=<MeanBackward0>)\n",
      "48 tensor(0., grad_fn=<MeanBackward0>)\n",
      "49 tensor(0., grad_fn=<MeanBackward0>)\n",
      "50 tensor(0., grad_fn=<MeanBackward0>)\n",
      "51 tensor(0., grad_fn=<MeanBackward0>)\n",
      "52 tensor(0., grad_fn=<MeanBackward0>)\n",
      "53 tensor(0., grad_fn=<MeanBackward0>)\n",
      "54 tensor(0., grad_fn=<MeanBackward0>)\n",
      "55 tensor(0., grad_fn=<MeanBackward0>)\n",
      "56 tensor(0., grad_fn=<MeanBackward0>)\n",
      "57 tensor(0., grad_fn=<MeanBackward0>)\n",
      "58 tensor(0., grad_fn=<MeanBackward0>)\n",
      "59 tensor(0., grad_fn=<MeanBackward0>)\n",
      "60 tensor(0., grad_fn=<MeanBackward0>)\n",
      "61 tensor(0., grad_fn=<MeanBackward0>)\n",
      "62 tensor(0., grad_fn=<MeanBackward0>)\n",
      "63 tensor(0., grad_fn=<MeanBackward0>)\n",
      "64 tensor(0., grad_fn=<MeanBackward0>)\n",
      "65 tensor(0., grad_fn=<MeanBackward0>)\n",
      "66 tensor(0., grad_fn=<MeanBackward0>)\n",
      "67 tensor(0., grad_fn=<MeanBackward0>)\n",
      "68 tensor(0., grad_fn=<MeanBackward0>)\n",
      "69 tensor(0., grad_fn=<MeanBackward0>)\n",
      "70 tensor(0., grad_fn=<MeanBackward0>)\n",
      "71 tensor(0., grad_fn=<MeanBackward0>)\n",
      "72 tensor(0., grad_fn=<MeanBackward0>)\n",
      "73 tensor(0., grad_fn=<MeanBackward0>)\n",
      "74 tensor(0., grad_fn=<MeanBackward0>)\n",
      "75 tensor(0., grad_fn=<MeanBackward0>)\n",
      "76 tensor(0., grad_fn=<MeanBackward0>)\n",
      "77 tensor(0., grad_fn=<MeanBackward0>)\n",
      "78 tensor(0., grad_fn=<MeanBackward0>)\n",
      "79 tensor(0., grad_fn=<MeanBackward0>)\n",
      "80 tensor(0., grad_fn=<MeanBackward0>)\n",
      "81 tensor(0., grad_fn=<MeanBackward0>)\n",
      "82 tensor(0., grad_fn=<MeanBackward0>)\n",
      "83 tensor(0., grad_fn=<MeanBackward0>)\n",
      "84 tensor(0., grad_fn=<MeanBackward0>)\n",
      "85 tensor(0., grad_fn=<MeanBackward0>)\n",
      "86 tensor(0., grad_fn=<MeanBackward0>)\n",
      "87 tensor(0., grad_fn=<MeanBackward0>)\n",
      "88 tensor(0., grad_fn=<MeanBackward0>)\n",
      "89 tensor(0., grad_fn=<MeanBackward0>)\n",
      "90 tensor(0., grad_fn=<MeanBackward0>)\n",
      "91 tensor(0., grad_fn=<MeanBackward0>)\n",
      "92 tensor(0., grad_fn=<MeanBackward0>)\n",
      "93 tensor(0., grad_fn=<MeanBackward0>)\n",
      "94 tensor(0., grad_fn=<MeanBackward0>)\n",
      "95 tensor(0., grad_fn=<MeanBackward0>)\n",
      "96 tensor(0., grad_fn=<MeanBackward0>)\n",
      "97 tensor(0., grad_fn=<MeanBackward0>)\n",
      "98 tensor(0., grad_fn=<MeanBackward0>)\n",
      "99 tensor(0., grad_fn=<MeanBackward0>)\n",
      "100 tensor(0., grad_fn=<MeanBackward0>)\n",
      "101 tensor(0., grad_fn=<MeanBackward0>)\n",
      "102 tensor(0., grad_fn=<MeanBackward0>)\n",
      "103 tensor(0., grad_fn=<MeanBackward0>)\n",
      "104 tensor(0., grad_fn=<MeanBackward0>)\n",
      "105 tensor(0., grad_fn=<MeanBackward0>)\n",
      "106 tensor(0., grad_fn=<MeanBackward0>)\n",
      "107 tensor(0., grad_fn=<MeanBackward0>)\n",
      "108 tensor(0., grad_fn=<MeanBackward0>)\n",
      "109 tensor(0., grad_fn=<MeanBackward0>)\n",
      "110 tensor(0., grad_fn=<MeanBackward0>)\n",
      "111 tensor(0., grad_fn=<MeanBackward0>)\n",
      "112 tensor(0., grad_fn=<MeanBackward0>)\n",
      "113 tensor(0., grad_fn=<MeanBackward0>)\n",
      "114 tensor(0., grad_fn=<MeanBackward0>)\n",
      "115 tensor(0., grad_fn=<MeanBackward0>)\n",
      "116 tensor(0., grad_fn=<MeanBackward0>)\n",
      "117 tensor(0., grad_fn=<MeanBackward0>)\n",
      "118 tensor(0., grad_fn=<MeanBackward0>)\n",
      "119 tensor(0., grad_fn=<MeanBackward0>)\n",
      "120 tensor(0., grad_fn=<MeanBackward0>)\n",
      "121 tensor(0., grad_fn=<MeanBackward0>)\n",
      "122 tensor(0., grad_fn=<MeanBackward0>)\n",
      "123 tensor(0., grad_fn=<MeanBackward0>)\n",
      "124 tensor(0., grad_fn=<MeanBackward0>)\n",
      "125 tensor(0., grad_fn=<MeanBackward0>)\n",
      "126 tensor(0., grad_fn=<MeanBackward0>)\n",
      "127 tensor(0., grad_fn=<MeanBackward0>)\n",
      "128 tensor(0., grad_fn=<MeanBackward0>)\n",
      "129 tensor(0., grad_fn=<MeanBackward0>)\n",
      "130 tensor(0., grad_fn=<MeanBackward0>)\n",
      "131 tensor(0., grad_fn=<MeanBackward0>)\n",
      "132 tensor(0., grad_fn=<MeanBackward0>)\n",
      "133 tensor(0., grad_fn=<MeanBackward0>)\n",
      "134 tensor(0., grad_fn=<MeanBackward0>)\n",
      "135 tensor(0., grad_fn=<MeanBackward0>)\n",
      "136 tensor(0., grad_fn=<MeanBackward0>)\n",
      "137 tensor(0., grad_fn=<MeanBackward0>)\n",
      "138 tensor(0., grad_fn=<MeanBackward0>)\n",
      "139 tensor(0., grad_fn=<MeanBackward0>)\n",
      "140 tensor(0., grad_fn=<MeanBackward0>)\n",
      "141 tensor(0., grad_fn=<MeanBackward0>)\n",
      "142 tensor(0., grad_fn=<MeanBackward0>)\n",
      "143 tensor(0., grad_fn=<MeanBackward0>)\n",
      "144 tensor(0., grad_fn=<MeanBackward0>)\n",
      "145 tensor(0., grad_fn=<MeanBackward0>)\n",
      "146 tensor(0., grad_fn=<MeanBackward0>)\n"
     ]
    },
    {
     "name": "stderr",
     "output_type": "stream",
     "text": [
      "/Users/joaa/miniforge3/envs/function-representation/lib/python3.10/site-packages/pytorch_lightning/trainer/call.py:52: UserWarning: Detected KeyboardInterrupt, attempting graceful shutdown...\n",
      "  rank_zero_warn(\"Detected KeyboardInterrupt, attempting graceful shutdown...\")\n"
     ]
    }
   ],
   "source": [
    "from sn_dataloader import SNDataloader\n",
    "from sn_dataset import SNDataset\n",
    "from siamese_network import SiameseNetwork\n",
    "import pytorch_lightning as pl\n",
    "import functions_manager as fm\n",
    "from pytorch_lightning import loggers as pl_loggers\n",
    "\n",
    "# Create Function Manager instance\n",
    "function_manager = fm.FunctionManager()\n",
    "\n",
    "# Create an instance of the SiameseNetwork\n",
    "model = SiameseNetwork()\n",
    "\n",
    "# Initialize the network\n",
    "model.init_network()\n",
    "\n",
    "\n",
    "# Create the dataset\n",
    "dataset = SNDataset(name_to_reference_map= function_manager.getNameToReference(),\n",
    "                    positive_negative_function_map= function_manager.getPositiveNegativeFunctionMap())\n",
    "\n",
    "# Create the dataloader\n",
    "batch_size = 8\n",
    "SNDataloader = SNDataloader(dataset, batch_size=batch_size, shuffle=True)\n",
    "dataLoader = SNDataloader.getDataLoader()\n",
    "\n",
    "# Create a logger\n",
    "tb_logger = pl_loggers.TensorBoardLogger(save_dir=\"logs/\")\n",
    "\n",
    "# Train the network\n",
    "k = 2\n",
    "trainer = pl.Trainer(max_epochs=20, log_every_n_steps=k, logger=tb_logger)\n",
    "trainer.fit(model, dataLoader)"
   ]
  },
  {
   "cell_type": "code",
   "execution_count": 2,
   "outputs": [
    {
     "name": "stdout",
     "output_type": "stream",
     "text": [
      "<function MathFunctions.a_cubed_minus_b_cubed at 0x15a9f5e10> <function MathFunctions.a_minus_b_whole_cubed_minus_3ab_times_a_minus_b at 0x15a9f5ea0> <function MathFunctions.a_plus_b_whole_square at 0x15a9f5630>\n",
      "tensor([2.7713e-05], grad_fn=<NormBackward1>)\n",
      "tensor([4.5159], grad_fn=<NormBackward1>)\n",
      "tensor([3.7603], grad_fn=<NormBackward1>)\n"
     ]
    }
   ],
   "source": [
    "# Test Similarity check\n",
    "from code_embedding import CodeEmbedding\n",
    "\n",
    "anchor_fun, positive_fun, negative_fun = dataset.samples[10000]\n",
    "print(anchor_fun, positive_fun, negative_fun)\n",
    "\n",
    "code_embedding = CodeEmbedding()\n",
    "anchor = code_embedding.getPerfectFunctionEmbedding(anchor_fun)\n",
    "positive = code_embedding.getPerfectFunctionEmbedding(positive_fun)\n",
    "negative = code_embedding.getPerfectFunctionEmbedding(negative_fun)\n",
    "# print(anchor, positive, negative)\n",
    "\n",
    "print(model.similarity_inference(anchor, anchor))\n",
    "print(model.similarity_inference(anchor, positive))\n",
    "print(model.similarity_inference(anchor, negative))\n",
    "\n"
   ],
   "metadata": {
    "collapsed": false,
    "ExecuteTime": {
     "end_time": "2023-07-06T16:28:19.951550Z",
     "start_time": "2023-07-06T16:28:15.302206Z"
    }
   }
  },
  {
   "cell_type": "code",
   "execution_count": 3,
   "outputs": [
    {
     "name": "stdout",
     "output_type": "stream",
     "text": [
      "1 tensor(1.3556, grad_fn=<MeanBackward0>)\n"
     ]
    },
    {
     "name": "stderr",
     "output_type": "stream",
     "text": [
      "/Users/mohimenul.admin/miniforge3/envs/function-representation/lib/python3.10/site-packages/pytorch_lightning/core/module.py:407: UserWarning: You are trying to `self.log()` but the `self.trainer` reference is not registered on the model yet. This is most likely because the model hasn't been passed to the `Trainer`\n",
      "  rank_zero_warn(\n"
     ]
    }
   ],
   "source": [
    "# check training step\n",
    "loss = model.training_step([anchor, positive, negative], 1)"
   ],
   "metadata": {
    "collapsed": false,
    "ExecuteTime": {
     "end_time": "2023-07-06T16:29:27.506332Z",
     "start_time": "2023-07-06T16:29:27.003573Z"
    }
   }
  },
  {
   "cell_type": "code",
   "execution_count": 4,
   "outputs": [
    {
     "name": "stdout",
     "output_type": "stream",
     "text": [
      "tensor(1.4122, grad_fn=<MeanBackward0>)\n"
     ]
    }
   ],
   "source": [
    "# Check Triplet loss\n",
    "anchor_forward = model(anchor)\n",
    "position_forward = model(positive)\n",
    "negative_forward = model(negative)\n",
    "# print(anchor_forward.shape)\n",
    "\n",
    "triplet_loss = model.triplet_loss(anchor_forward, position_forward, negative_forward, margin=0.6)\n",
    "print(triplet_loss)"
   ],
   "metadata": {
    "collapsed": false,
    "ExecuteTime": {
     "end_time": "2023-07-05T06:05:45.533437Z",
     "start_time": "2023-07-05T06:05:45.141705Z"
    }
   }
  },
  {
   "cell_type": "code",
   "execution_count": 5,
   "outputs": [
    {
     "name": "stdout",
     "output_type": "stream",
     "text": [
      "torch.Size([2, 768])\n",
      "2\n"
     ]
    },
    {
     "data": {
      "text/plain": "(torch.Size([2, 768]), 2)"
     },
     "execution_count": 5,
     "metadata": {},
     "output_type": "execute_result"
    }
   ],
   "source": [
    "# Check final function embedding size\n",
    "final_func_embedding = code_embedding.getFinalFunctionEmbedding(anchor_forward, position_forward, dim=0)\n",
    "code_embedding.getShape(final_func_embedding)"
   ],
   "metadata": {
    "collapsed": false,
    "ExecuteTime": {
     "end_time": "2023-07-05T06:05:46.493786Z",
     "start_time": "2023-07-05T06:05:46.491103Z"
    }
   }
  },
  {
   "cell_type": "code",
   "execution_count": null,
   "outputs": [],
   "source": [],
   "metadata": {
    "collapsed": false
   }
  }
 ],
 "metadata": {
  "kernelspec": {
   "display_name": "Python 3",
   "language": "python",
   "name": "python3"
  },
  "language_info": {
   "codemirror_mode": {
    "name": "ipython",
    "version": 2
   },
   "file_extension": ".py",
   "mimetype": "text/x-python",
   "name": "python",
   "nbconvert_exporter": "python",
   "pygments_lexer": "ipython2",
   "version": "2.7.6"
  }
 },
 "nbformat": 4,
 "nbformat_minor": 0
}
