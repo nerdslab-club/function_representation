{
 "cells": [
  {
   "cell_type": "markdown",
   "source": [
    "#### Main notebook for training and saving siamese network."
   ],
   "metadata": {
    "collapsed": false
   }
  },
  {
   "cell_type": "code",
   "execution_count": 1,
   "metadata": {
    "collapsed": true,
    "ExecuteTime": {
     "end_time": "2023-07-05T06:05:34.958963Z",
     "start_time": "2023-07-05T06:05:27.278872Z"
    }
   },
   "outputs": [],
   "source": [
    "from src.sn_dataloader import SNDataloader\n",
    "from src.sn_dataset import SNDataset\n",
    "from src.siamese_network import SiameseNetwork\n",
    "import pytorch_lightning as pl\n",
    "import functions_manager as fm\n",
    "from pytorch_lightning import loggers as pl_loggers\n",
    "\n",
    "# Create Function Manager instance\n",
    "function_manager = fm.FunctionManager()\n",
    "\n",
    "# Create an instance of the SiameseNetwork\n",
    "model = SiameseNetwork()\n",
    "\n",
    "# Initialize the network\n",
    "model.init_network()\n",
    "\n",
    "\n",
    "# Create the dataset\n",
    "dataset = SNDataset(name_to_reference_map= function_manager.getNameToReference(),\n",
    "                    positive_negative_function_map= function_manager.getPositiveNegativeFunctionMap())\n",
    "\n",
    "# Create the dataloader\n",
    "batch_size = 8\n",
    "SNDataloader = SNDataloader(dataset, batch_size=batch_size, shuffle=True)\n",
    "dataLoader = SNDataloader.getDataLoader()\n",
    "\n",
    "# Create a logger\n",
    "tb_logger = pl_loggers.TensorBoardLogger(save_dir=\"logs/\")\n",
    "\n",
    "# Train the network\n",
    "# k = 2\n",
    "# trainer = pl.Trainer(max_epochs=20, log_every_n_steps=k, logger=tb_logger)\n",
    "# trainer.fit(model, dataLoader)"
   ]
  },
  {
   "cell_type": "code",
   "execution_count": 2,
   "outputs": [
    {
     "name": "stdout",
     "output_type": "stream",
     "text": [
      "tensor([2.7713e-05], grad_fn=<NormBackward1>)\n",
      "tensor([4.5385], grad_fn=<NormBackward1>)\n",
      "tensor([3.7263], grad_fn=<NormBackward1>)\n"
     ]
    }
   ],
   "source": [
    "# Test Similarity check\n",
    "from src.code_embedding import CodeEmbedding\n",
    "\n",
    "anchor_fun, positive_fun, negative_fun = dataset.samples[10000]\n",
    "# print(anchor_fun, positive_fun, negative_fun)\n",
    "\n",
    "code_embedding = CodeEmbedding()\n",
    "anchor = code_embedding.getPerfectFunctionEmbedding(anchor_fun)\n",
    "positive = code_embedding.getPerfectFunctionEmbedding(positive_fun)\n",
    "negative = code_embedding.getPerfectFunctionEmbedding(negative_fun)\n",
    "# print(anchor, positive, negative)\n",
    "\n",
    "print(model.similarity_inference(anchor, anchor))\n",
    "print(model.similarity_inference(anchor, positive))\n",
    "print(model.similarity_inference(anchor, negative))\n",
    "\n"
   ],
   "metadata": {
    "collapsed": false,
    "ExecuteTime": {
     "end_time": "2023-07-05T06:05:43.021238Z",
     "start_time": "2023-07-05T06:05:37.288345Z"
    }
   }
  },
  {
   "cell_type": "code",
   "execution_count": 3,
   "outputs": [
    {
     "name": "stdout",
     "output_type": "stream",
     "text": [
      "1 tensor(1.4122, grad_fn=<MeanBackward0>)\n"
     ]
    },
    {
     "name": "stderr",
     "output_type": "stream",
     "text": [
      "/Users/mohimenul.admin/miniforge3/envs/function-representation/lib/python3.10/site-packages/pytorch_lightning/core/module.py:407: UserWarning: You are trying to `self.log()` but the `self.trainer` reference is not registered on the model yet. This is most likely because the model hasn't been passed to the `Trainer`\n",
      "  rank_zero_warn(\n"
     ]
    }
   ],
   "source": [
    "# check training step\n",
    "loss = model.training_step([anchor, positive, negative], 1)"
   ],
   "metadata": {
    "collapsed": false,
    "ExecuteTime": {
     "end_time": "2023-07-05T06:05:44.001215Z",
     "start_time": "2023-07-05T06:05:43.276558Z"
    }
   }
  },
  {
   "cell_type": "code",
   "execution_count": 4,
   "outputs": [
    {
     "name": "stdout",
     "output_type": "stream",
     "text": [
      "tensor(1.4122, grad_fn=<MeanBackward0>)\n"
     ]
    }
   ],
   "source": [
    "# Check Triplet loss\n",
    "anchor_forward = model(anchor)\n",
    "position_forward = model(positive)\n",
    "negative_forward = model(negative)\n",
    "# print(anchor_forward.shape)\n",
    "\n",
    "triplet_loss = model.triplet_loss(anchor_forward, position_forward, negative_forward, margin=0.6)\n",
    "print(triplet_loss)"
   ],
   "metadata": {
    "collapsed": false,
    "ExecuteTime": {
     "end_time": "2023-07-05T06:05:45.533437Z",
     "start_time": "2023-07-05T06:05:45.141705Z"
    }
   }
  },
  {
   "cell_type": "code",
   "execution_count": 5,
   "outputs": [
    {
     "name": "stdout",
     "output_type": "stream",
     "text": [
      "torch.Size([2, 768])\n",
      "2\n"
     ]
    },
    {
     "data": {
      "text/plain": "(torch.Size([2, 768]), 2)"
     },
     "execution_count": 5,
     "metadata": {},
     "output_type": "execute_result"
    }
   ],
   "source": [
    "# Check final function embedding size\n",
    "final_func_embedding = code_embedding.getFinalFunctionEmbedding(anchor_forward, position_forward, dim=0)\n",
    "code_embedding.getShape(final_func_embedding)"
   ],
   "metadata": {
    "collapsed": false,
    "ExecuteTime": {
     "end_time": "2023-07-05T06:05:46.493786Z",
     "start_time": "2023-07-05T06:05:46.491103Z"
    }
   }
  },
  {
   "cell_type": "code",
   "execution_count": null,
   "outputs": [],
   "source": [],
   "metadata": {
    "collapsed": false
   }
  }
 ],
 "metadata": {
  "kernelspec": {
   "display_name": "Python 3",
   "language": "python",
   "name": "python3"
  },
  "language_info": {
   "codemirror_mode": {
    "name": "ipython",
    "version": 2
   },
   "file_extension": ".py",
   "mimetype": "text/x-python",
   "name": "python",
   "nbconvert_exporter": "python",
   "pygments_lexer": "ipython2",
   "version": "2.7.6"
  }
 },
 "nbformat": 4,
 "nbformat_minor": 0
}
