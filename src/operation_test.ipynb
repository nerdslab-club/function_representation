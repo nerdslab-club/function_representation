{
 "cells": [
  {
   "cell_type": "code",
   "execution_count": 7,
   "metadata": {
    "collapsed": true,
    "ExecuteTime": {
     "end_time": "2023-07-22T04:46:29.921580Z",
     "start_time": "2023-07-22T04:46:29.919287Z"
    }
   },
   "outputs": [
    {
     "name": "stdout",
     "output_type": "stream",
     "text": [
      "E1: [[0.38695669 0.80031769 0.79364747 0.39512898 0.89019573 0.15869312\n",
      "  0.92181275 0.39856366 0.08762952 0.36873968]]\n",
      "E2: [[0.82989731 0.25130142 0.9534913  0.504272   0.13550558 0.72660243\n",
      "  0.56325286 0.6166408  0.98309442 0.79722752]]\n",
      "E3: [[6.78075390e-01 3.69383971e-01 3.54572091e-01 8.17239369e-01\n",
      "  8.92415225e-01 3.11873538e-04 8.77506676e-01 7.20957264e-01\n",
      "  5.72752575e-02 5.85614315e-01]]\n",
      "E1_and_E2: [[0.32113431 0.20112097 0.75673596 0.19925248 0.12062649 0.1153068\n",
      "  0.51921367 0.24577061 0.08614809 0.29396942]]\n",
      "E1_and_E3: [[2.62385807e-01 2.95624525e-01 2.81405245e-01 3.22914958e-01\n",
      "  7.94424219e-01 4.94921833e-05 8.08896844e-01 2.87347364e-01\n",
      "  5.01900334e-03 2.15939236e-01]]\n",
      "E4: [[0.58352012 0.4967455  1.03814121 0.52216744 0.91505071 0.1153563\n",
      "  1.32811052 0.53311798 0.0911671  0.50990866]]\n"
     ]
    }
   ],
   "source": [
    "import numpy as np\n",
    "\n",
    "# Define the size of the vectors\n",
    "vector_size = 10\n",
    "\n",
    "# Generate random vectors for E1, E2, and E3\n",
    "E1 = np.random.rand(1, vector_size)\n",
    "E2 = np.random.rand(1, vector_size)\n",
    "E3 = np.random.rand(1, vector_size)\n",
    "\n",
    "\n",
    "# Element-wise multiplication (operation_A)\n",
    "def operation_A_mul(E1, E2):\n",
    "    return E1 * E2\n",
    "\n",
    "\n",
    "# Element-wise addition (operation_B)\n",
    "def operation_B_add(E1, E2):\n",
    "    return E1 + E2\n",
    "\n",
    "\n",
    "# Element-wise AND operation between E1 and E2\n",
    "E1_and_E2 = operation_A_mul(E1, E2)\n",
    "\n",
    "# Element-wise AND operation between E1 and E3\n",
    "E1_and_E3 = operation_A_mul(E1, E3)\n",
    "\n",
    "# Element-wise addition (custom binary operation) between the results\n",
    "E4 = operation_B_add(E1_and_E2, E1_and_E3)\n",
    "\n",
    "# Print the resulting vectors\n",
    "print(\"E1:\", E1)\n",
    "print(\"E2:\", E2)\n",
    "print(\"E3:\", E3)\n",
    "print(\"E1_and_E2:\", E1_and_E2)\n",
    "print(\"E1_and_E3:\", E1_and_E3)\n",
    "print(\"E4:\", E4)"
   ]
  },
  {
   "cell_type": "code",
   "execution_count": 12,
   "outputs": [
    {
     "name": "stdout",
     "output_type": "stream",
     "text": [
      "Primary E1: [[0.38695669 0.80031769 0.79364747 0.39512898 0.89019573 0.15869312\n",
      "  0.92181275 0.39856366 0.08762952 0.36873968]]\n",
      "Reconstructed E1: [[0.38695669 0.80031769 0.79364747 0.39512898 0.89019573 0.15869312\n",
      "  0.92181275 0.39856366 0.08762952 0.36873968]]\n"
     ]
    }
   ],
   "source": [
    "# find out E1 from E4\n",
    "\n",
    "\n",
    "# Element-wise addition\n",
    "def add(E1, E2):\n",
    "    return E1 + E2\n",
    "\n",
    "\n",
    "# Element-wise subtraction\n",
    "def sub(E1, E2):\n",
    "    return E1 - E2\n",
    "\n",
    "\n",
    "# Element-wise division\n",
    "def div(E1, E2):\n",
    "    return E1 / E2\n",
    "\n",
    "\n",
    "# Element-wise multiplication\n",
    "def mul(E1, E2):\n",
    "    return E1 * E2\n",
    "\n",
    "\n",
    "# Dot product\n",
    "def operation_A_dot(E1, E2):\n",
    "    return np.dot(E1.flatten(), E2.flatten())\n",
    "\n",
    "\n",
    "def find_E1_from_E4(E4, E2, E3):\n",
    "    # Element-wise add operation between E2 and E3\n",
    "    E2_add_E3 = add(E2, E3)\n",
    "\n",
    "    # Element-wise division between E4 and E2_add_E3\n",
    "    E1 = div(E4, E2_add_E3)\n",
    "\n",
    "    return E1\n",
    "\n",
    "\n",
    "E1_reconstructed = find_E1_from_E4(E4, E2, E3)\n",
    "print(\"Primary E1:\", E1)\n",
    "print(\"Reconstructed E1:\", E1_reconstructed)"
   ],
   "metadata": {
    "collapsed": false,
    "ExecuteTime": {
     "end_time": "2023-07-22T05:01:01.259124Z",
     "start_time": "2023-07-22T05:01:01.256094Z"
    }
   }
  },
  {
   "cell_type": "code",
   "execution_count": 14,
   "outputs": [
    {
     "name": "stdout",
     "output_type": "stream",
     "text": [
      "Primary E2: [[0.82989731 0.25130142 0.9534913  0.504272   0.13550558 0.72660243\n",
      "  0.56325286 0.6166408  0.98309442 0.79722752]]\n",
      "Reconstructed E2: [[0.82989731 0.25130142 0.9534913  0.504272   0.13550558 0.72660243\n",
      "  0.56325286 0.6166408  0.98309442 0.79722752]]\n"
     ]
    }
   ],
   "source": [
    "# Find out E2 from E4\n",
    "def find_E2_from_E4(E4, E1, E3):\n",
    "    # Element-wise multiplication operation between E1 and E3\n",
    "    E1_mul_E3 = mul(E1, E3)\n",
    "\n",
    "    # Element-wise subtraction between E4 and E1_mul_E3 then division by E1\n",
    "    E2 = div(sub(E4, E1_mul_E3), E1)\n",
    "\n",
    "    return E2\n",
    "\n",
    "\n",
    "E2_reconstructed = find_E2_from_E4(E4, E1, E3)\n",
    "print(\"Primary E2:\", E2)\n",
    "print(\"Reconstructed E2:\", E2_reconstructed)"
   ],
   "metadata": {
    "collapsed": false,
    "ExecuteTime": {
     "end_time": "2023-07-22T05:05:45.060039Z",
     "start_time": "2023-07-22T05:05:45.059220Z"
    }
   }
  },
  {
   "cell_type": "code",
   "execution_count": 15,
   "outputs": [
    {
     "name": "stdout",
     "output_type": "stream",
     "text": [
      "Primary E3: [[6.78075390e-01 3.69383971e-01 3.54572091e-01 8.17239369e-01\n",
      "  8.92415225e-01 3.11873538e-04 8.77506676e-01 7.20957264e-01\n",
      "  5.72752575e-02 5.85614315e-01]]\n",
      "Reconstructed E3: [[6.78075390e-01 3.69383971e-01 3.54572091e-01 8.17239369e-01\n",
      "  8.92415225e-01 3.11873538e-04 8.77506676e-01 7.20957264e-01\n",
      "  5.72752575e-02 5.85614315e-01]]\n"
     ]
    }
   ],
   "source": [
    "# Find out E3 from E4\n",
    "def find_E3_from_E4(E4, E1, E2):\n",
    "    # Element-wise multiplication operation between E1 and E2\n",
    "    E1_mul_E2 = mul(E1, E2)\n",
    "\n",
    "    # Element-wise subtraction between E4 and E1_mul_E2 then division by E1\n",
    "    E3 = div(sub(E4, E1_mul_E2), E1)\n",
    "\n",
    "    return E3\n",
    "\n",
    "\n",
    "E3_reconstructed = find_E3_from_E4(E4, E1, E2)\n",
    "print(\"Primary E3:\", E3)\n",
    "print(\"Reconstructed E3:\", E3_reconstructed)"
   ],
   "metadata": {
    "collapsed": false,
    "ExecuteTime": {
     "end_time": "2023-07-22T05:08:41.878968Z",
     "start_time": "2023-07-22T05:08:41.874839Z"
    }
   }
  },
  {
   "cell_type": "code",
   "execution_count": null,
   "outputs": [],
   "source": [],
   "metadata": {
    "collapsed": false
   }
  }
 ],
 "metadata": {
  "kernelspec": {
   "display_name": "Python 3",
   "language": "python",
   "name": "python3"
  },
  "language_info": {
   "codemirror_mode": {
    "name": "ipython",
    "version": 2
   },
   "file_extension": ".py",
   "mimetype": "text/x-python",
   "name": "python",
   "nbconvert_exporter": "python",
   "pygments_lexer": "ipython2",
   "version": "2.7.6"
  }
 },
 "nbformat": 4,
 "nbformat_minor": 0
}
